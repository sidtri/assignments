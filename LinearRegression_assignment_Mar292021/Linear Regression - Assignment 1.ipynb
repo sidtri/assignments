{
 "cells": [
  {
   "cell_type": "markdown",
   "id": "synthetic-hours",
   "metadata": {},
   "source": [
    "<h2 align='center'>Linear Regression - Bike sharing assignment</h2>"
   ]
  },
  {
   "cell_type": "markdown",
   "id": "hawaiian-degree",
   "metadata": {},
   "source": [
    "Problem Statement:\n",
    "Understand the variables which helps increase the revenue and recover from dips\n",
    "1) Which variables are significant in predicting the demand for shared bikes.\n",
    "2) How well those variables describe the bike demands"
   ]
  },
  {
   "cell_type": "markdown",
   "id": "painful-enclosure",
   "metadata": {},
   "source": [
    "### Task 1: Import Libraries & Datasets"
   ]
  },
  {
   "cell_type": "code",
   "execution_count": 426,
   "id": "adjustable-directive",
   "metadata": {},
   "outputs": [],
   "source": [
    "# Core modules\n",
    "import pandas as pd\n",
    "import numpy as np\n",
    "\n",
    "# Basic modules for data visualization\n",
    "import seaborn as sns\n",
    "from scipy.stats import skew\n",
    "%matplotlib inline\n",
    "sns.set(style='ticks', palette='Set2')"
   ]
  },
  {
   "cell_type": "code",
   "execution_count": 433,
   "id": "musical-ideal",
   "metadata": {},
   "outputs": [],
   "source": [
    "import matplotlib.pyplot as plt\n",
    "plt.style.use('ggplot')\n",
    "plt.rcParams['figure.figsize'] = (12,8)\n",
    "\n",
    "# Model Building\n",
    "import statsmodels.api as sm\n",
    "from sklearn.model_selection import train_test_split\n",
    "from statsmodels.stats.outliers_influence import variance_inflation_factor\n",
    "from sklearn.linear_model import LinearRegression\n",
    "from sklearn.preprocessing import StandardScaler, MinMaxScaler\n",
    "from sklearn.metrics import mean_squared_error, accuracy_score, mean_absolute_error, r2_score\n",
    "\n",
    "\n",
    "# Custom functions\n",
    "def find_r2(X, y, features):\n",
    "    model = LinearRegression().fit(X[features], y)\n",
    "    r2score = r2_score(y, model.predict(X[features]))\n",
    "    print(\"R^2: \", r2score, features)\n",
    "    print(\"adjusted R^2: \", 1 - ((1 - r2score)* ((X.shape[0])/(X.shape[0]-1-len(features)))))\n",
    "    print(\"__________________________________________________________________\")\n",
    "\n",
    "def build_lm(df, y, features):\n",
    "    training_data = sm.add_constant(df[features])\n",
    "    model = sm.OLS(y, training_data).fit()\n",
    "    return model\n"
   ]
  },
  {
   "cell_type": "code",
   "execution_count": 490,
   "id": "ordinary-blame",
   "metadata": {
    "scrolled": true
   },
   "outputs": [
    {
     "data": {
      "text/html": [
       "<div>\n",
       "<style scoped>\n",
       "    .dataframe tbody tr th:only-of-type {\n",
       "        vertical-align: middle;\n",
       "    }\n",
       "\n",
       "    .dataframe tbody tr th {\n",
       "        vertical-align: top;\n",
       "    }\n",
       "\n",
       "    .dataframe thead th {\n",
       "        text-align: right;\n",
       "    }\n",
       "</style>\n",
       "<table border=\"1\" class=\"dataframe\">\n",
       "  <thead>\n",
       "    <tr style=\"text-align: right;\">\n",
       "      <th></th>\n",
       "      <th>instant</th>\n",
       "      <th>dteday</th>\n",
       "      <th>season</th>\n",
       "      <th>yr</th>\n",
       "      <th>mnth</th>\n",
       "      <th>holiday</th>\n",
       "      <th>weekday</th>\n",
       "      <th>workingday</th>\n",
       "      <th>weathersit</th>\n",
       "      <th>temp</th>\n",
       "      <th>atemp</th>\n",
       "      <th>hum</th>\n",
       "      <th>windspeed</th>\n",
       "      <th>casual</th>\n",
       "      <th>registered</th>\n",
       "      <th>cnt</th>\n",
       "    </tr>\n",
       "  </thead>\n",
       "  <tbody>\n",
       "    <tr>\n",
       "      <th>0</th>\n",
       "      <td>1</td>\n",
       "      <td>01-01-2018</td>\n",
       "      <td>1</td>\n",
       "      <td>0</td>\n",
       "      <td>1</td>\n",
       "      <td>0</td>\n",
       "      <td>1</td>\n",
       "      <td>1</td>\n",
       "      <td>2</td>\n",
       "      <td>14.110847</td>\n",
       "      <td>18.18125</td>\n",
       "      <td>80.5833</td>\n",
       "      <td>10.749882</td>\n",
       "      <td>331</td>\n",
       "      <td>654</td>\n",
       "      <td>985</td>\n",
       "    </tr>\n",
       "    <tr>\n",
       "      <th>1</th>\n",
       "      <td>2</td>\n",
       "      <td>02-01-2018</td>\n",
       "      <td>1</td>\n",
       "      <td>0</td>\n",
       "      <td>1</td>\n",
       "      <td>0</td>\n",
       "      <td>2</td>\n",
       "      <td>1</td>\n",
       "      <td>2</td>\n",
       "      <td>14.902598</td>\n",
       "      <td>17.68695</td>\n",
       "      <td>69.6087</td>\n",
       "      <td>16.652113</td>\n",
       "      <td>131</td>\n",
       "      <td>670</td>\n",
       "      <td>801</td>\n",
       "    </tr>\n",
       "    <tr>\n",
       "      <th>2</th>\n",
       "      <td>3</td>\n",
       "      <td>03-01-2018</td>\n",
       "      <td>1</td>\n",
       "      <td>0</td>\n",
       "      <td>1</td>\n",
       "      <td>0</td>\n",
       "      <td>3</td>\n",
       "      <td>1</td>\n",
       "      <td>1</td>\n",
       "      <td>8.050924</td>\n",
       "      <td>9.47025</td>\n",
       "      <td>43.7273</td>\n",
       "      <td>16.636703</td>\n",
       "      <td>120</td>\n",
       "      <td>1229</td>\n",
       "      <td>1349</td>\n",
       "    </tr>\n",
       "    <tr>\n",
       "      <th>3</th>\n",
       "      <td>4</td>\n",
       "      <td>04-01-2018</td>\n",
       "      <td>1</td>\n",
       "      <td>0</td>\n",
       "      <td>1</td>\n",
       "      <td>0</td>\n",
       "      <td>4</td>\n",
       "      <td>1</td>\n",
       "      <td>1</td>\n",
       "      <td>8.200000</td>\n",
       "      <td>10.60610</td>\n",
       "      <td>59.0435</td>\n",
       "      <td>10.739832</td>\n",
       "      <td>108</td>\n",
       "      <td>1454</td>\n",
       "      <td>1562</td>\n",
       "    </tr>\n",
       "    <tr>\n",
       "      <th>4</th>\n",
       "      <td>5</td>\n",
       "      <td>05-01-2018</td>\n",
       "      <td>1</td>\n",
       "      <td>0</td>\n",
       "      <td>1</td>\n",
       "      <td>0</td>\n",
       "      <td>5</td>\n",
       "      <td>1</td>\n",
       "      <td>1</td>\n",
       "      <td>9.305237</td>\n",
       "      <td>11.46350</td>\n",
       "      <td>43.6957</td>\n",
       "      <td>12.522300</td>\n",
       "      <td>82</td>\n",
       "      <td>1518</td>\n",
       "      <td>1600</td>\n",
       "    </tr>\n",
       "  </tbody>\n",
       "</table>\n",
       "</div>"
      ],
      "text/plain": [
       "   instant      dteday  season  yr  mnth  holiday  weekday  workingday  \\\n",
       "0        1  01-01-2018       1   0     1        0        1           1   \n",
       "1        2  02-01-2018       1   0     1        0        2           1   \n",
       "2        3  03-01-2018       1   0     1        0        3           1   \n",
       "3        4  04-01-2018       1   0     1        0        4           1   \n",
       "4        5  05-01-2018       1   0     1        0        5           1   \n",
       "\n",
       "   weathersit       temp     atemp      hum  windspeed  casual  registered  \\\n",
       "0           2  14.110847  18.18125  80.5833  10.749882     331         654   \n",
       "1           2  14.902598  17.68695  69.6087  16.652113     131         670   \n",
       "2           1   8.050924   9.47025  43.7273  16.636703     120        1229   \n",
       "3           1   8.200000  10.60610  59.0435  10.739832     108        1454   \n",
       "4           1   9.305237  11.46350  43.6957  12.522300      82        1518   \n",
       "\n",
       "    cnt  \n",
       "0   985  \n",
       "1   801  \n",
       "2  1349  \n",
       "3  1562  \n",
       "4  1600  "
      ]
     },
     "execution_count": 490,
     "metadata": {},
     "output_type": "execute_result"
    }
   ],
   "source": [
    "# read csv file\n",
    "bikes = pd.read_csv(\"day.csv\")\n",
    "\n",
    "bikes.head()"
   ]
  },
  {
   "cell_type": "markdown",
   "id": "structured-modem",
   "metadata": {},
   "source": [
    "### Task 2: Exploratory Data Analysis"
   ]
  },
  {
   "cell_type": "code",
   "execution_count": 491,
   "id": "organizational-borough",
   "metadata": {},
   "outputs": [],
   "source": [
    "# Lets drop instant which adds no value.\n",
    "bikes.drop('instant', axis=1, inplace=True)\n",
    "bikes.drop('dteday', axis=1, inplace=True) # dropping this because we have year and month columns already and its not that useful\n",
    "# Removing casual and registered which are highly corelated with output  variable and they are duplicates of cnt.\n",
    "bikes.drop('casual', axis=1, inplace=True)\n",
    "bikes.drop('registered', axis=1, inplace=True)\n",
    "# dropping highly corelated atemp variable.\n",
    "bikes.drop('atemp', axis=1, inplace=True)\n",
    "# workingday and holiday are similar\n",
    "bikes.drop('workingday', axis=1, inplace=True)"
   ]
  },
  {
   "cell_type": "code",
   "execution_count": 492,
   "id": "developmental-theme",
   "metadata": {},
   "outputs": [],
   "source": [
    "\n",
    "# Also as we are using linear regression. its better we convert this into one hot encoding.\n",
    "def map_seasons(x):\n",
    "    return x.map({1: 'spring', 2: 'summer', 3: 'fall', 4: 'winter'})\n",
    "bikes[['season']] = bikes[['season']].apply(map_seasons)\n",
    "\n",
    "def map_mnths(x):\n",
    "    return x.map({1: 'January',2: 'February',3: 'March',4: 'April',5: 'May',6: 'June',7: 'July',8: 'August',9: 'September',10: 'October',11: 'November',12: 'December'})\n",
    "bikes[['mnth']] = bikes[['mnth']].apply(map_mnths)\n",
    "\n",
    "def map_weekdays(x):\n",
    "    return x.map({1: 'monday', 2: 'tuesday', 3: 'wednesday', 4: 'thursday', 5: 'friday', 6: 'saturday', 0: 'sunday'})\n",
    "bikes[['weekday']] = bikes[['weekday']].apply(map_weekdays)\n",
    "\n",
    "def map_weathersit(x):\n",
    "    return x.map({1: 'clear', 2: 'mist', 3: 'snow', 4: 'rainy'})\n",
    "bikes[['weathersit']] = bikes[['weathersit']].apply(map_weathersit)"
   ]
  },
  {
   "cell_type": "code",
   "execution_count": 437,
   "id": "flexible-perception",
   "metadata": {
    "scrolled": true
   },
   "outputs": [
    {
     "data": {
      "text/plain": [
       "<AxesSubplot:xlabel='season', ylabel='cnt'>"
      ]
     },
     "execution_count": 437,
     "metadata": {},
     "output_type": "execute_result"
    },
    {
     "data": {
      "image/png": "[encoded data removed]",
      "text/plain": [
       "<Figure size 864x576 with 1 Axes>"
      ]
     },
     "metadata": {},
     "output_type": "display_data"
    }
   ],
   "source": [
    "sns.barplot(x='season',y='cnt',data=bikes)"
   ]
  },
  {
   "cell_type": "code",
   "execution_count": 438,
   "id": "controversial-professor",
   "metadata": {},
   "outputs": [
    {
     "data": {
      "text/plain": [
       "<AxesSubplot:xlabel='mnth', ylabel='cnt'>"
      ]
     },
     "execution_count": 438,
     "metadata": {},
     "output_type": "execute_result"
    },
    {
     "data": {
      "image/png": "[encoded data removed]",
      "text/plain": [
       "<Figure size 864x576 with 1 Axes>"
      ]
     },
     "metadata": {},
     "output_type": "display_data"
    }
   ],
   "source": [
    "sns.barplot(x='mnth',y='cnt',data=bikes)"
   ]
  },
  {
   "cell_type": "markdown",
   "id": "distinct-powder",
   "metadata": {},
   "source": [
    "> From both month and season feature observations, it seems more and more users are coming in the middle of year\n",
    "-  Including any one of the feature is enough for the model as both of them denotes the same thing. Its better to take season variables into model as they are more broad."
   ]
  },
  {
   "cell_type": "code",
   "execution_count": 439,
   "id": "greek-atlantic",
   "metadata": {},
   "outputs": [
    {
     "data": {
      "text/plain": [
       "<AxesSubplot:xlabel='weekday', ylabel='cnt'>"
      ]
     },
     "execution_count": 439,
     "metadata": {},
     "output_type": "execute_result"
    },
    {
     "data": {
      "image/png": "[encoded data removed]",
      "text/plain": [
       "<Figure size 864x576 with 1 Axes>"
      ]
     },
     "metadata": {},
     "output_type": "display_data"
    }
   ],
   "source": [
    "sns.barplot(x='weekday',y='cnt',data=bikes)"
   ]
  },
  {
   "cell_type": "code",
   "execution_count": 440,
   "id": "informal-booth",
   "metadata": {
    "scrolled": false
   },
   "outputs": [
    {
     "data": {
      "text/plain": [
       "<AxesSubplot:xlabel='weathersit', ylabel='cnt'>"
      ]
     },
     "execution_count": 440,
     "metadata": {},
     "output_type": "execute_result"
    },
    {
     "data": {
      "image/png": "[encoded data removed]",
      "text/plain": [
       "<Figure size 864x576 with 1 Axes>"
      ]
     },
     "metadata": {},
     "output_type": "display_data"
    }
   ],
   "source": [
    "sns.barplot(x='weathersit',y='cnt',data=bikes)"
   ]
  },
  {
   "cell_type": "markdown",
   "id": "generic-natural",
   "metadata": {},
   "source": [
    "> From this we can assume that weathersit_snow is right feature for the model as it explains the drastic decrease in the count"
   ]
  },
  {
   "cell_type": "code",
   "execution_count": 494,
   "id": "after-discretion",
   "metadata": {},
   "outputs": [],
   "source": [
    "bikes = pd.get_dummies(bikes, columns=['season'], drop_first=True)\n",
    "# season and month are similar as per graphs above.\n",
    "bikes.drop('mnth', axis=1, inplace=True)\n",
    "# weekday wont explain much of the output.\n",
    "bikes.drop('weekday', axis=1, inplace=True)\n",
    "bikes = pd.get_dummies(bikes, columns=['weathersit'], drop_first=True)"
   ]
  },
  {
   "cell_type": "code",
   "execution_count": 495,
   "id": "solar-religion",
   "metadata": {
    "scrolled": true
   },
   "outputs": [
    {
     "data": {
      "text/plain": [
       "(730, 11)"
      ]
     },
     "execution_count": 495,
     "metadata": {},
     "output_type": "execute_result"
    }
   ],
   "source": [
    "bikes.shape"
   ]
  },
  {
   "cell_type": "code",
   "execution_count": 496,
   "id": "hybrid-floating",
   "metadata": {},
   "outputs": [
    {
     "name": "stdout",
     "output_type": "stream",
     "text": [
      "<class 'pandas.core.frame.DataFrame'>\n",
      "RangeIndex: 730 entries, 0 to 729\n",
      "Data columns (total 11 columns):\n",
      " #   Column           Non-Null Count  Dtype  \n",
      "---  ------           --------------  -----  \n",
      " 0   yr               730 non-null    int64  \n",
      " 1   holiday          730 non-null    int64  \n",
      " 2   temp             730 non-null    float64\n",
      " 3   hum              730 non-null    float64\n",
      " 4   windspeed        730 non-null    float64\n",
      " 5   cnt              730 non-null    int64  \n",
      " 6   weathersit_mist  730 non-null    uint8  \n",
      " 7   weathersit_snow  730 non-null    uint8  \n",
      " 8   season_spring    730 non-null    uint8  \n",
      " 9   season_summer    730 non-null    uint8  \n",
      " 10  season_winter    730 non-null    uint8  \n",
      "dtypes: float64(3), int64(3), uint8(5)\n",
      "memory usage: 37.9 KB\n"
     ]
    }
   ],
   "source": [
    "bikes.info()"
   ]
  },
  {
   "cell_type": "markdown",
   "id": "sought-protocol",
   "metadata": {},
   "source": [
    "We have our supervised learning model in place because we already have our data. \n",
    "This is a regression task\n",
    "\n",
    "- Target variable is continuous, so its a regression task.\n",
    "- This is small dataset based on the record count\n",
    "- From this I've observed, no missing values because the total count and non-null values are same\n",
    "- Most of the conversions are already happened and clean dataset\n",
    "- Most of the data is in numericals\n",
    "- Which variables are significant in predicting the demand for shared bikes.\n",
    "- How well those variables describe the bike demands"
   ]
  },
  {
   "cell_type": "code",
   "execution_count": 497,
   "id": "moral-section",
   "metadata": {
    "scrolled": true
   },
   "outputs": [
    {
     "data": {
      "text/plain": [
       "yr                 0\n",
       "holiday            0\n",
       "temp               0\n",
       "hum                0\n",
       "windspeed          0\n",
       "cnt                0\n",
       "weathersit_mist    0\n",
       "weathersit_snow    0\n",
       "season_spring      0\n",
       "season_summer      0\n",
       "season_winter      0\n",
       "dtype: int64"
      ]
     },
     "execution_count": 497,
     "metadata": {},
     "output_type": "execute_result"
    }
   ],
   "source": [
    "# Check the null values\n",
    "bikes.isnull().sum()"
   ]
  },
  {
   "cell_type": "code",
   "execution_count": 498,
   "id": "marked-africa",
   "metadata": {
    "scrolled": true
   },
   "outputs": [
    {
     "name": "stdout",
     "output_type": "stream",
     "text": [
      "<class 'pandas.core.frame.DataFrame'>\n",
      "RangeIndex: 730 entries, 0 to 729\n",
      "Data columns (total 11 columns):\n",
      " #   Column           Non-Null Count  Dtype  \n",
      "---  ------           --------------  -----  \n",
      " 0   yr               730 non-null    int64  \n",
      " 1   holiday          730 non-null    int64  \n",
      " 2   temp             730 non-null    float64\n",
      " 3   hum              730 non-null    float64\n",
      " 4   windspeed        730 non-null    float64\n",
      " 5   cnt              730 non-null    int64  \n",
      " 6   weathersit_mist  730 non-null    uint8  \n",
      " 7   weathersit_snow  730 non-null    uint8  \n",
      " 8   season_spring    730 non-null    uint8  \n",
      " 9   season_summer    730 non-null    uint8  \n",
      " 10  season_winter    730 non-null    uint8  \n",
      "dtypes: float64(3), int64(3), uint8(5)\n",
      "memory usage: 37.9 KB\n"
     ]
    }
   ],
   "source": [
    "# Check information\n",
    "bikes.info()"
   ]
  },
  {
   "cell_type": "code",
   "execution_count": 499,
   "id": "packed-murray",
   "metadata": {},
   "outputs": [
    {
     "data": {
      "text/html": [
       "<div>\n",
       "<style scoped>\n",
       "    .dataframe tbody tr th:only-of-type {\n",
       "        vertical-align: middle;\n",
       "    }\n",
       "\n",
       "    .dataframe tbody tr th {\n",
       "        vertical-align: top;\n",
       "    }\n",
       "\n",
       "    .dataframe thead th {\n",
       "        text-align: right;\n",
       "    }\n",
       "</style>\n",
       "<table border=\"1\" class=\"dataframe\">\n",
       "  <thead>\n",
       "    <tr style=\"text-align: right;\">\n",
       "      <th></th>\n",
       "      <th>yr</th>\n",
       "      <th>holiday</th>\n",
       "      <th>temp</th>\n",
       "      <th>hum</th>\n",
       "      <th>windspeed</th>\n",
       "      <th>cnt</th>\n",
       "      <th>weathersit_mist</th>\n",
       "      <th>weathersit_snow</th>\n",
       "      <th>season_spring</th>\n",
       "      <th>season_summer</th>\n",
       "      <th>season_winter</th>\n",
       "    </tr>\n",
       "  </thead>\n",
       "  <tbody>\n",
       "    <tr>\n",
       "      <th>count</th>\n",
       "      <td>730.000000</td>\n",
       "      <td>730.000000</td>\n",
       "      <td>730.000000</td>\n",
       "      <td>730.000000</td>\n",
       "      <td>730.000000</td>\n",
       "      <td>730.000000</td>\n",
       "      <td>730.000000</td>\n",
       "      <td>730.000000</td>\n",
       "      <td>730.000000</td>\n",
       "      <td>730.000000</td>\n",
       "      <td>730.000000</td>\n",
       "    </tr>\n",
       "    <tr>\n",
       "      <th>mean</th>\n",
       "      <td>0.500000</td>\n",
       "      <td>0.028767</td>\n",
       "      <td>20.319259</td>\n",
       "      <td>62.765175</td>\n",
       "      <td>12.763620</td>\n",
       "      <td>4508.006849</td>\n",
       "      <td>0.336986</td>\n",
       "      <td>0.028767</td>\n",
       "      <td>0.246575</td>\n",
       "      <td>0.252055</td>\n",
       "      <td>0.243836</td>\n",
       "    </tr>\n",
       "    <tr>\n",
       "      <th>std</th>\n",
       "      <td>0.500343</td>\n",
       "      <td>0.167266</td>\n",
       "      <td>7.506729</td>\n",
       "      <td>14.237589</td>\n",
       "      <td>5.195841</td>\n",
       "      <td>1936.011647</td>\n",
       "      <td>0.473004</td>\n",
       "      <td>0.167266</td>\n",
       "      <td>0.431313</td>\n",
       "      <td>0.434490</td>\n",
       "      <td>0.429689</td>\n",
       "    </tr>\n",
       "    <tr>\n",
       "      <th>min</th>\n",
       "      <td>0.000000</td>\n",
       "      <td>0.000000</td>\n",
       "      <td>2.424346</td>\n",
       "      <td>0.000000</td>\n",
       "      <td>1.500244</td>\n",
       "      <td>22.000000</td>\n",
       "      <td>0.000000</td>\n",
       "      <td>0.000000</td>\n",
       "      <td>0.000000</td>\n",
       "      <td>0.000000</td>\n",
       "      <td>0.000000</td>\n",
       "    </tr>\n",
       "    <tr>\n",
       "      <th>25%</th>\n",
       "      <td>0.000000</td>\n",
       "      <td>0.000000</td>\n",
       "      <td>13.811885</td>\n",
       "      <td>52.000000</td>\n",
       "      <td>9.041650</td>\n",
       "      <td>3169.750000</td>\n",
       "      <td>0.000000</td>\n",
       "      <td>0.000000</td>\n",
       "      <td>0.000000</td>\n",
       "      <td>0.000000</td>\n",
       "      <td>0.000000</td>\n",
       "    </tr>\n",
       "    <tr>\n",
       "      <th>50%</th>\n",
       "      <td>0.500000</td>\n",
       "      <td>0.000000</td>\n",
       "      <td>20.465826</td>\n",
       "      <td>62.625000</td>\n",
       "      <td>12.125325</td>\n",
       "      <td>4548.500000</td>\n",
       "      <td>0.000000</td>\n",
       "      <td>0.000000</td>\n",
       "      <td>0.000000</td>\n",
       "      <td>0.000000</td>\n",
       "      <td>0.000000</td>\n",
       "    </tr>\n",
       "    <tr>\n",
       "      <th>75%</th>\n",
       "      <td>1.000000</td>\n",
       "      <td>0.000000</td>\n",
       "      <td>26.880615</td>\n",
       "      <td>72.989575</td>\n",
       "      <td>15.625589</td>\n",
       "      <td>5966.000000</td>\n",
       "      <td>1.000000</td>\n",
       "      <td>0.000000</td>\n",
       "      <td>0.000000</td>\n",
       "      <td>1.000000</td>\n",
       "      <td>0.000000</td>\n",
       "    </tr>\n",
       "    <tr>\n",
       "      <th>max</th>\n",
       "      <td>1.000000</td>\n",
       "      <td>1.000000</td>\n",
       "      <td>35.328347</td>\n",
       "      <td>97.250000</td>\n",
       "      <td>34.000021</td>\n",
       "      <td>8714.000000</td>\n",
       "      <td>1.000000</td>\n",
       "      <td>1.000000</td>\n",
       "      <td>1.000000</td>\n",
       "      <td>1.000000</td>\n",
       "      <td>1.000000</td>\n",
       "    </tr>\n",
       "  </tbody>\n",
       "</table>\n",
       "</div>"
      ],
      "text/plain": [
       "               yr     holiday        temp         hum   windspeed  \\\n",
       "count  730.000000  730.000000  730.000000  730.000000  730.000000   \n",
       "mean     0.500000    0.028767   20.319259   62.765175   12.763620   \n",
       "std      0.500343    0.167266    7.506729   14.237589    5.195841   \n",
       "min      0.000000    0.000000    2.424346    0.000000    1.500244   \n",
       "25%      0.000000    0.000000   13.811885   52.000000    9.041650   \n",
       "50%      0.500000    0.000000   20.465826   62.625000   12.125325   \n",
       "75%      1.000000    0.000000   26.880615   72.989575   15.625589   \n",
       "max      1.000000    1.000000   35.328347   97.250000   34.000021   \n",
       "\n",
       "               cnt  weathersit_mist  weathersit_snow  season_spring  \\\n",
       "count   730.000000       730.000000       730.000000     730.000000   \n",
       "mean   4508.006849         0.336986         0.028767       0.246575   \n",
       "std    1936.011647         0.473004         0.167266       0.431313   \n",
       "min      22.000000         0.000000         0.000000       0.000000   \n",
       "25%    3169.750000         0.000000         0.000000       0.000000   \n",
       "50%    4548.500000         0.000000         0.000000       0.000000   \n",
       "75%    5966.000000         1.000000         0.000000       0.000000   \n",
       "max    8714.000000         1.000000         1.000000       1.000000   \n",
       "\n",
       "       season_summer  season_winter  \n",
       "count     730.000000     730.000000  \n",
       "mean        0.252055       0.243836  \n",
       "std         0.434490       0.429689  \n",
       "min         0.000000       0.000000  \n",
       "25%         0.000000       0.000000  \n",
       "50%         0.000000       0.000000  \n",
       "75%         1.000000       0.000000  \n",
       "max         1.000000       1.000000  "
      ]
     },
     "execution_count": 499,
     "metadata": {},
     "output_type": "execute_result"
    }
   ],
   "source": [
    "# Statistics summary - Descriptive\n",
    "bikes.describe()"
   ]
  },
  {
   "cell_type": "code",
   "execution_count": 500,
   "id": "standard-algorithm",
   "metadata": {
    "scrolled": true
   },
   "outputs": [
    {
     "data": {
      "text/html": [
       "<div>\n",
       "<style scoped>\n",
       "    .dataframe tbody tr th:only-of-type {\n",
       "        vertical-align: middle;\n",
       "    }\n",
       "\n",
       "    .dataframe tbody tr th {\n",
       "        vertical-align: top;\n",
       "    }\n",
       "\n",
       "    .dataframe thead th {\n",
       "        text-align: right;\n",
       "    }\n",
       "</style>\n",
       "<table border=\"1\" class=\"dataframe\">\n",
       "  <thead>\n",
       "    <tr style=\"text-align: right;\">\n",
       "      <th></th>\n",
       "      <th>holiday</th>\n",
       "      <th>temp</th>\n",
       "      <th>hum</th>\n",
       "      <th>windspeed</th>\n",
       "      <th>cnt</th>\n",
       "      <th>weathersit_mist</th>\n",
       "      <th>weathersit_snow</th>\n",
       "      <th>season_spring</th>\n",
       "      <th>season_summer</th>\n",
       "      <th>season_winter</th>\n",
       "    </tr>\n",
       "    <tr>\n",
       "      <th>yr</th>\n",
       "      <th></th>\n",
       "      <th></th>\n",
       "      <th></th>\n",
       "      <th></th>\n",
       "      <th></th>\n",
       "      <th></th>\n",
       "      <th></th>\n",
       "      <th></th>\n",
       "      <th></th>\n",
       "      <th></th>\n",
       "    </tr>\n",
       "  </thead>\n",
       "  <tbody>\n",
       "    <tr>\n",
       "      <th>0</th>\n",
       "      <td>0.027397</td>\n",
       "      <td>19.953263</td>\n",
       "      <td>64.366477</td>\n",
       "      <td>12.823977</td>\n",
       "      <td>3405.761644</td>\n",
       "      <td>0.339726</td>\n",
       "      <td>0.041096</td>\n",
       "      <td>0.246575</td>\n",
       "      <td>0.252055</td>\n",
       "      <td>0.243836</td>\n",
       "    </tr>\n",
       "    <tr>\n",
       "      <th>1</th>\n",
       "      <td>0.030137</td>\n",
       "      <td>20.685256</td>\n",
       "      <td>61.163873</td>\n",
       "      <td>12.703263</td>\n",
       "      <td>5610.252055</td>\n",
       "      <td>0.334247</td>\n",
       "      <td>0.016438</td>\n",
       "      <td>0.246575</td>\n",
       "      <td>0.252055</td>\n",
       "      <td>0.243836</td>\n",
       "    </tr>\n",
       "  </tbody>\n",
       "</table>\n",
       "</div>"
      ],
      "text/plain": [
       "     holiday       temp        hum  windspeed          cnt  weathersit_mist  \\\n",
       "yr                                                                            \n",
       "0   0.027397  19.953263  64.366477  12.823977  3405.761644         0.339726   \n",
       "1   0.030137  20.685256  61.163873  12.703263  5610.252055         0.334247   \n",
       "\n",
       "    weathersit_snow  season_spring  season_summer  season_winter  \n",
       "yr                                                                \n",
       "0          0.041096       0.246575       0.252055       0.243836  \n",
       "1          0.016438       0.246575       0.252055       0.243836  "
      ]
     },
     "execution_count": 500,
     "metadata": {},
     "output_type": "execute_result"
    }
   ],
   "source": [
    "# Grouping by year\n",
    "bikes.groupby(by='yr').mean()"
   ]
  },
  {
   "cell_type": "code",
   "execution_count": 501,
   "id": "military-deviation",
   "metadata": {
    "scrolled": true
   },
   "outputs": [
    {
     "data": {
      "text/html": [
       "<div>\n",
       "<style scoped>\n",
       "    .dataframe tbody tr th:only-of-type {\n",
       "        vertical-align: middle;\n",
       "    }\n",
       "\n",
       "    .dataframe tbody tr th {\n",
       "        vertical-align: top;\n",
       "    }\n",
       "\n",
       "    .dataframe thead th {\n",
       "        text-align: right;\n",
       "    }\n",
       "</style>\n",
       "<table border=\"1\" class=\"dataframe\">\n",
       "  <thead>\n",
       "    <tr style=\"text-align: right;\">\n",
       "      <th></th>\n",
       "      <th>yr</th>\n",
       "      <th>holiday</th>\n",
       "      <th>temp</th>\n",
       "      <th>hum</th>\n",
       "      <th>windspeed</th>\n",
       "      <th>cnt</th>\n",
       "      <th>weathersit_mist</th>\n",
       "      <th>weathersit_snow</th>\n",
       "      <th>season_summer</th>\n",
       "      <th>season_winter</th>\n",
       "    </tr>\n",
       "    <tr>\n",
       "      <th>season_spring</th>\n",
       "      <th></th>\n",
       "      <th></th>\n",
       "      <th></th>\n",
       "      <th></th>\n",
       "      <th></th>\n",
       "      <th></th>\n",
       "      <th></th>\n",
       "      <th></th>\n",
       "      <th></th>\n",
       "      <th></th>\n",
       "    </tr>\n",
       "  </thead>\n",
       "  <tbody>\n",
       "    <tr>\n",
       "      <th>0</th>\n",
       "      <td>0.5</td>\n",
       "      <td>0.025455</td>\n",
       "      <td>22.977442</td>\n",
       "      <td>64.270024</td>\n",
       "      <td>12.232277</td>\n",
       "      <td>5129.692727</td>\n",
       "      <td>0.329091</td>\n",
       "      <td>0.030909</td>\n",
       "      <td>0.334545</td>\n",
       "      <td>0.323636</td>\n",
       "    </tr>\n",
       "    <tr>\n",
       "      <th>1</th>\n",
       "      <td>0.5</td>\n",
       "      <td>0.038889</td>\n",
       "      <td>12.197035</td>\n",
       "      <td>58.167024</td>\n",
       "      <td>14.387168</td>\n",
       "      <td>2608.411111</td>\n",
       "      <td>0.361111</td>\n",
       "      <td>0.022222</td>\n",
       "      <td>0.000000</td>\n",
       "      <td>0.000000</td>\n",
       "    </tr>\n",
       "  </tbody>\n",
       "</table>\n",
       "</div>"
      ],
      "text/plain": [
       "                yr   holiday       temp        hum  windspeed          cnt  \\\n",
       "season_spring                                                                \n",
       "0              0.5  0.025455  22.977442  64.270024  12.232277  5129.692727   \n",
       "1              0.5  0.038889  12.197035  58.167024  14.387168  2608.411111   \n",
       "\n",
       "               weathersit_mist  weathersit_snow  season_summer  season_winter  \n",
       "season_spring                                                                  \n",
       "0                     0.329091         0.030909       0.334545       0.323636  \n",
       "1                     0.361111         0.022222       0.000000       0.000000  "
      ]
     },
     "execution_count": 501,
     "metadata": {},
     "output_type": "execute_result"
    }
   ],
   "source": [
    "# Grouping by season\n",
    "bikes.groupby(by='season_spring').mean()"
   ]
  },
  {
   "cell_type": "markdown",
   "id": "respiratory-thomson",
   "metadata": {},
   "source": [
    "- we can see the drastic increase in sales from last year to this year.\n",
    "- H1: This means we can assume/hypothesize more and more users are coming each year\n",
    "- H1: Almost fifty percent of users are coming in spring season.\n"
   ]
  },
  {
   "cell_type": "code",
   "execution_count": 502,
   "id": "complimentary-rouge",
   "metadata": {
    "scrolled": true
   },
   "outputs": [
    {
     "data": {
      "text/plain": [
       "<AxesSubplot:>"
      ]
     },
     "execution_count": 502,
     "metadata": {},
     "output_type": "execute_result"
    },
    {
     "data": {
      "image/png": "[encoded data removed]",
      "text/plain": [
       "<Figure size 864x576 with 1 Axes>"
      ]
     },
     "metadata": {},
     "output_type": "display_data"
    }
   ],
   "source": [
    "features = ['yr','holiday','temp','hum','windspeed','season_spring','season_summer','season_winter','weathersit_mist','weathersit_snow']\n",
    "sns.boxplot(data=bikes[['temp', 'hum', 'windspeed']], orient=\"h\", palette=\"Set2\") # only using other than categorical variables"
   ]
  },
  {
   "cell_type": "code",
   "execution_count": 503,
   "id": "smart-december",
   "metadata": {},
   "outputs": [],
   "source": [
    "median = bikes.hum.describe().median()\n",
    "bikes = bikes[bikes['hum'] > 15]"
   ]
  },
  {
   "cell_type": "code",
   "execution_count": 504,
   "id": "electric-construction",
   "metadata": {},
   "outputs": [
    {
     "data": {
      "text/plain": [
       "count    729.000000\n",
       "mean      12.757060\n",
       "std        5.196382\n",
       "min        1.500244\n",
       "25%        9.041650\n",
       "50%       12.125325\n",
       "75%       15.624936\n",
       "max       34.000021\n",
       "Name: windspeed, dtype: float64"
      ]
     },
     "execution_count": 504,
     "metadata": {},
     "output_type": "execute_result"
    }
   ],
   "source": [
    "bikes.windspeed.describe() # valid values"
   ]
  },
  {
   "cell_type": "code",
   "execution_count": null,
   "id": "resistant-excerpt",
   "metadata": {},
   "outputs": [],
   "source": []
  },
  {
   "cell_type": "markdown",
   "id": "parliamentary-textbook",
   "metadata": {},
   "source": [
    "### Task 3: Data Visualization\n",
    "Linear relationships b/w Features & Response"
   ]
  },
  {
   "cell_type": "code",
   "execution_count": 505,
   "id": "buried-handle",
   "metadata": {
    "scrolled": false
   },
   "outputs": [
    {
     "data": {
      "text/plain": [
       "<seaborn.axisgrid.FacetGrid at 0x7fda9dc8a580>"
      ]
     },
     "execution_count": 505,
     "metadata": {},
     "output_type": "execute_result"
    },
    {
     "data": {
      "image/png": "[encoded data removed]",
      "text/plain": [
       "<Figure size 360x360 with 1 Axes>"
      ]
     },
     "metadata": {},
     "output_type": "display_data"
    }
   ],
   "source": [
    "sns.displot(bikes['cnt'], kde=True)"
   ]
  },
  {
   "cell_type": "markdown",
   "id": "fabulous-fifteen",
   "metadata": {},
   "source": [
    "- It clearly denotes there's no skewness on this target variable.\n",
    "- No need to apply log transformations."
   ]
  },
  {
   "cell_type": "code",
   "execution_count": 506,
   "id": "applicable-record",
   "metadata": {},
   "outputs": [
    {
     "data": {
      "text/plain": [
       "array([[<AxesSubplot:title={'center':'temp'}>,\n",
       "        <AxesSubplot:title={'center':'hum'}>],\n",
       "       [<AxesSubplot:title={'center':'windspeed'}>, <AxesSubplot:>]],\n",
       "      dtype=object)"
      ]
     },
     "execution_count": 506,
     "metadata": {},
     "output_type": "execute_result"
    },
    {
     "data": {
      "image/png": "[encoded data removed]",
      "text/plain": [
       "<Figure size 1440x1440 with 4 Axes>"
      ]
     },
     "metadata": {},
     "output_type": "display_data"
    }
   ],
   "source": [
    "bikes[['temp', 'hum', 'windspeed']].hist(bins=30, figsize=(20,20), color='r')"
   ]
  },
  {
   "cell_type": "markdown",
   "id": "parallel-tablet",
   "metadata": {},
   "source": [
    "- We see windspeed little skewness"
   ]
  },
  {
   "cell_type": "markdown",
   "id": "virtual-access",
   "metadata": {},
   "source": [
    "###### Qualitative analysis\n",
    "- temp explains the linearity"
   ]
  },
  {
   "cell_type": "code",
   "execution_count": 537,
   "id": "complicated-neutral",
   "metadata": {},
   "outputs": [
    {
     "data": {
      "text/plain": [
       "<seaborn.axisgrid.PairGrid at 0x7fda9ba20df0>"
      ]
     },
     "execution_count": 537,
     "metadata": {},
     "output_type": "execute_result"
    },
    {
     "data": {
      "image/png": "[encoded data removed]",
      "text/plain": [
       "<Figure size 3175.2x504 with 9 Axes>"
      ]
     },
     "metadata": {},
     "output_type": "display_data"
    }
   ],
   "source": [
    "sns.pairplot(bikes, \n",
    "             x_vars=['holiday','temp','hum','windspeed','weathersit_mist','weathersit_snow','season_spring','season_summer','season_winter'],\n",
    "             y_vars=\"cnt\",\n",
    "             height=7,\n",
    "             aspect=0.7\n",
    "            )"
   ]
  },
  {
   "cell_type": "code",
   "execution_count": 507,
   "id": "several-bottom",
   "metadata": {},
   "outputs": [
    {
     "data": {
      "text/plain": [
       "<AxesSubplot:>"
      ]
     },
     "execution_count": 507,
     "metadata": {},
     "output_type": "execute_result"
    },
    {
     "data": {
      "image/png": "[encoded data removed]",
      "text/plain": [
       "<Figure size 864x576 with 2 Axes>"
      ]
     },
     "metadata": {},
     "output_type": "display_data"
    }
   ],
   "source": [
    "sns.heatmap(bikes.corr(), annot=True) # Corelation coefficient is independent of scaling"
   ]
  },
  {
   "cell_type": "markdown",
   "id": "guided-coverage",
   "metadata": {},
   "source": [
    "### Task 4: Feature Selection"
   ]
  },
  {
   "cell_type": "code",
   "execution_count": 508,
   "id": "legitimate-webcam",
   "metadata": {},
   "outputs": [],
   "source": [
    "scaling_features = ['temp', 'hum', 'windspeed']\n",
    "scaler = MinMaxScaler()\n",
    "\n",
    "bikes[scaling_features] = pd.DataFrame(scaler.fit_transform(bikes[scaling_features]))"
   ]
  },
  {
   "cell_type": "code",
   "execution_count": 509,
   "id": "acute-locking",
   "metadata": {
    "scrolled": true
   },
   "outputs": [
    {
     "data": {
      "text/html": [
       "<div>\n",
       "<style scoped>\n",
       "    .dataframe tbody tr th:only-of-type {\n",
       "        vertical-align: middle;\n",
       "    }\n",
       "\n",
       "    .dataframe tbody tr th {\n",
       "        vertical-align: top;\n",
       "    }\n",
       "\n",
       "    .dataframe thead th {\n",
       "        text-align: right;\n",
       "    }\n",
       "</style>\n",
       "<table border=\"1\" class=\"dataframe\">\n",
       "  <thead>\n",
       "    <tr style=\"text-align: right;\">\n",
       "      <th></th>\n",
       "      <th>yr</th>\n",
       "      <th>holiday</th>\n",
       "      <th>temp</th>\n",
       "      <th>hum</th>\n",
       "      <th>windspeed</th>\n",
       "      <th>cnt</th>\n",
       "      <th>weathersit_mist</th>\n",
       "      <th>weathersit_snow</th>\n",
       "      <th>season_spring</th>\n",
       "      <th>season_summer</th>\n",
       "      <th>season_winter</th>\n",
       "    </tr>\n",
       "  </thead>\n",
       "  <tbody>\n",
       "    <tr>\n",
       "      <th>0</th>\n",
       "      <td>0</td>\n",
       "      <td>0</td>\n",
       "      <td>0.355170</td>\n",
       "      <td>0.787573</td>\n",
       "      <td>0.284606</td>\n",
       "      <td>985</td>\n",
       "      <td>1</td>\n",
       "      <td>0</td>\n",
       "      <td>1</td>\n",
       "      <td>0</td>\n",
       "      <td>0</td>\n",
       "    </tr>\n",
       "    <tr>\n",
       "      <th>1</th>\n",
       "      <td>0</td>\n",
       "      <td>0</td>\n",
       "      <td>0.379232</td>\n",
       "      <td>0.647694</td>\n",
       "      <td>0.466215</td>\n",
       "      <td>801</td>\n",
       "      <td>1</td>\n",
       "      <td>0</td>\n",
       "      <td>1</td>\n",
       "      <td>0</td>\n",
       "      <td>0</td>\n",
       "    </tr>\n",
       "    <tr>\n",
       "      <th>2</th>\n",
       "      <td>0</td>\n",
       "      <td>0</td>\n",
       "      <td>0.171000</td>\n",
       "      <td>0.317820</td>\n",
       "      <td>0.465740</td>\n",
       "      <td>1349</td>\n",
       "      <td>0</td>\n",
       "      <td>0</td>\n",
       "      <td>1</td>\n",
       "      <td>0</td>\n",
       "      <td>0</td>\n",
       "    </tr>\n",
       "    <tr>\n",
       "      <th>3</th>\n",
       "      <td>0</td>\n",
       "      <td>0</td>\n",
       "      <td>0.175530</td>\n",
       "      <td>0.513034</td>\n",
       "      <td>0.284297</td>\n",
       "      <td>1562</td>\n",
       "      <td>0</td>\n",
       "      <td>0</td>\n",
       "      <td>1</td>\n",
       "      <td>0</td>\n",
       "      <td>0</td>\n",
       "    </tr>\n",
       "    <tr>\n",
       "      <th>4</th>\n",
       "      <td>0</td>\n",
       "      <td>0</td>\n",
       "      <td>0.209120</td>\n",
       "      <td>0.317417</td>\n",
       "      <td>0.339143</td>\n",
       "      <td>1600</td>\n",
       "      <td>0</td>\n",
       "      <td>0</td>\n",
       "      <td>1</td>\n",
       "      <td>0</td>\n",
       "      <td>0</td>\n",
       "    </tr>\n",
       "  </tbody>\n",
       "</table>\n",
       "</div>"
      ],
      "text/plain": [
       "   yr  holiday      temp       hum  windspeed   cnt  weathersit_mist  \\\n",
       "0   0        0  0.355170  0.787573   0.284606   985                1   \n",
       "1   0        0  0.379232  0.647694   0.466215   801                1   \n",
       "2   0        0  0.171000  0.317820   0.465740  1349                0   \n",
       "3   0        0  0.175530  0.513034   0.284297  1562                0   \n",
       "4   0        0  0.209120  0.317417   0.339143  1600                0   \n",
       "\n",
       "   weathersit_snow  season_spring  season_summer  season_winter  \n",
       "0                0              1              0              0  \n",
       "1                0              1              0              0  \n",
       "2                0              1              0              0  \n",
       "3                0              1              0              0  \n",
       "4                0              1              0              0  "
      ]
     },
     "execution_count": 509,
     "metadata": {},
     "output_type": "execute_result"
    }
   ],
   "source": [
    "bikes.head()"
   ]
  },
  {
   "cell_type": "code",
   "execution_count": 510,
   "id": "effective-delivery",
   "metadata": {},
   "outputs": [],
   "source": [
    "np.random.seed(0)\n",
    "X_train, X_test, y_train, y_test = train_test_split(bikes[features], bikes.cnt, train_size = 0.7, test_size = 0.3, random_state = 100)"
   ]
  },
  {
   "cell_type": "code",
   "execution_count": 511,
   "id": "criminal-money",
   "metadata": {},
   "outputs": [
    {
     "data": {
      "text/html": [
       "<div>\n",
       "<style scoped>\n",
       "    .dataframe tbody tr th:only-of-type {\n",
       "        vertical-align: middle;\n",
       "    }\n",
       "\n",
       "    .dataframe tbody tr th {\n",
       "        vertical-align: top;\n",
       "    }\n",
       "\n",
       "    .dataframe thead th {\n",
       "        text-align: right;\n",
       "    }\n",
       "</style>\n",
       "<table border=\"1\" class=\"dataframe\">\n",
       "  <thead>\n",
       "    <tr style=\"text-align: right;\">\n",
       "      <th></th>\n",
       "      <th>yr</th>\n",
       "      <th>holiday</th>\n",
       "      <th>temp</th>\n",
       "      <th>hum</th>\n",
       "      <th>windspeed</th>\n",
       "      <th>season_spring</th>\n",
       "      <th>season_summer</th>\n",
       "      <th>season_winter</th>\n",
       "      <th>weathersit_mist</th>\n",
       "      <th>weathersit_snow</th>\n",
       "    </tr>\n",
       "  </thead>\n",
       "  <tbody>\n",
       "    <tr>\n",
       "      <th>626</th>\n",
       "      <td>1</td>\n",
       "      <td>0</td>\n",
       "      <td>0.607495</td>\n",
       "      <td>0.548592</td>\n",
       "      <td>0.197446</td>\n",
       "      <td>0</td>\n",
       "      <td>0</td>\n",
       "      <td>0</td>\n",
       "      <td>0</td>\n",
       "      <td>0</td>\n",
       "    </tr>\n",
       "    <tr>\n",
       "      <th>364</th>\n",
       "      <td>0</td>\n",
       "      <td>0</td>\n",
       "      <td>0.387359</td>\n",
       "      <td>0.643123</td>\n",
       "      <td>0.350001</td>\n",
       "      <td>1</td>\n",
       "      <td>0</td>\n",
       "      <td>0</td>\n",
       "      <td>0</td>\n",
       "      <td>0</td>\n",
       "    </tr>\n",
       "    <tr>\n",
       "      <th>426</th>\n",
       "      <td>1</td>\n",
       "      <td>0</td>\n",
       "      <td>0.332325</td>\n",
       "      <td>0.274561</td>\n",
       "      <td>0.643574</td>\n",
       "      <td>1</td>\n",
       "      <td>0</td>\n",
       "      <td>0</td>\n",
       "      <td>1</td>\n",
       "      <td>0</td>\n",
       "    </tr>\n",
       "    <tr>\n",
       "      <th>728</th>\n",
       "      <td>1</td>\n",
       "      <td>0</td>\n",
       "      <td>0.195259</td>\n",
       "      <td>0.496548</td>\n",
       "      <td>0.273062</td>\n",
       "      <td>1</td>\n",
       "      <td>0</td>\n",
       "      <td>0</td>\n",
       "      <td>0</td>\n",
       "      <td>0</td>\n",
       "    </tr>\n",
       "    <tr>\n",
       "      <th>482</th>\n",
       "      <td>1</td>\n",
       "      <td>0</td>\n",
       "      <td>0.497426</td>\n",
       "      <td>0.508762</td>\n",
       "      <td>0.194850</td>\n",
       "      <td>0</td>\n",
       "      <td>1</td>\n",
       "      <td>0</td>\n",
       "      <td>1</td>\n",
       "      <td>0</td>\n",
       "    </tr>\n",
       "  </tbody>\n",
       "</table>\n",
       "</div>"
      ],
      "text/plain": [
       "     yr  holiday      temp       hum  windspeed  season_spring  season_summer  \\\n",
       "626   1        0  0.607495  0.548592   0.197446              0              0   \n",
       "364   0        0  0.387359  0.643123   0.350001              1              0   \n",
       "426   1        0  0.332325  0.274561   0.643574              1              0   \n",
       "728   1        0  0.195259  0.496548   0.273062              1              0   \n",
       "482   1        0  0.497426  0.508762   0.194850              0              1   \n",
       "\n",
       "     season_winter  weathersit_mist  weathersit_snow  \n",
       "626              0                0                0  \n",
       "364              0                0                0  \n",
       "426              0                1                0  \n",
       "728              0                0                0  \n",
       "482              0                1                0  "
      ]
     },
     "execution_count": 511,
     "metadata": {},
     "output_type": "execute_result"
    }
   ],
   "source": [
    "X_train.head()"
   ]
  },
  {
   "cell_type": "code",
   "execution_count": 512,
   "id": "magnetic-alpha",
   "metadata": {},
   "outputs": [
    {
     "name": "stdout",
     "output_type": "stream",
     "text": [
      "R^2:  0.4131945931890918 ['temp']\n",
      "adjusted R^2:  0.41088433568196225\n",
      "__________________________________________________________________\n",
      "R^2:  0.6935246001314601 ['temp', 'yr']\n",
      "adjusted R^2:  0.6917111362269126\n",
      "__________________________________________________________________\n",
      "R^2:  0.6938367204733933 ['temp', 'yr', 'hum']\n",
      "adjusted R^2:  0.6914164573941316\n",
      "__________________________________________________________________\n",
      "R^2:  0.6973910952603504 ['temp', 'yr', 'windspeed']\n",
      "adjusted R^2:  0.6949989300054915\n",
      "__________________________________________________________________\n",
      "R^2:  0.7098747953032218 ['temp', 'yr', 'windspeed', 'weathersit_mist']\n",
      "adjusted R^2:  0.7070022685240458\n",
      "__________________________________________________________________\n",
      "R^2:  0.7129588646913192 ['temp', 'yr', 'windspeed', 'weathersit_snow']\n",
      "adjusted R^2:  0.7101168732526194\n",
      "__________________________________________________________________\n",
      "R^2:  0.7735032078640312 ['temp', 'yr', 'windspeed', 'weathersit_snow', 'season_spring']\n",
      "adjusted R^2:  0.7708068174814601\n",
      "__________________________________________________________________\n",
      "R^2:  0.7802400004899898 ['temp', 'yr', 'windspeed', 'weathersit_snow', 'season_spring', 'season_winter']\n",
      "adjusted R^2:  0.7771817102383594\n",
      "__________________________________________________________________\n",
      "R^2:  0.7746118005099036 ['temp', 'yr', 'windspeed', 'weathersit_snow', 'season_spring', 'season_summer']\n",
      "adjusted R^2:  0.7714751854076558\n",
      "__________________________________________________________________\n"
     ]
    }
   ],
   "source": [
    "features = X_train[features]\n",
    "target = y_train\n",
    "\n",
    "# written common functions at top of declaration.\n",
    "find_r2(features, target, ['temp'])\n",
    "find_r2(features, target, ['temp', 'yr'])\n",
    "find_r2(features, target, ['temp', 'yr', 'hum'])\n",
    "find_r2(features, target, ['temp', 'yr', 'windspeed'])\n",
    "find_r2(features, target, ['temp', 'yr', 'windspeed', 'weathersit_mist'])\n",
    "find_r2(features, target, ['temp', 'yr', 'windspeed', 'weathersit_snow'])\n",
    "find_r2(features, target, ['temp', 'yr', 'windspeed', 'weathersit_snow', 'season_spring'])\n",
    "find_r2(features, target, ['temp', 'yr', 'windspeed', 'weathersit_snow', 'season_spring', 'season_winter'])\n",
    "find_r2(features, target, ['temp', 'yr', 'windspeed', 'weathersit_snow', 'season_spring', 'season_summer'])"
   ]
  },
  {
   "cell_type": "code",
   "execution_count": 513,
   "id": "native-yesterday",
   "metadata": {},
   "outputs": [
    {
     "name": "stdout",
     "output_type": "stream",
     "text": [
      "R^2:  0.7754740468194259 ['temp', 'yr', 'windspeed', 'weathersit_snow', 'season_spring', 'season_fall']\n",
      "adjusted R^2:  0.7723494311688016\n",
      "__________________________________________________________________\n"
     ]
    }
   ],
   "source": [
    "find_r2(ind, dpt, ['temp', 'yr', 'windspeed', 'weathersit_snow', 'season_spring', 'season_fall'])"
   ]
  },
  {
   "cell_type": "code",
   "execution_count": null,
   "id": "consolidated-presence",
   "metadata": {
    "scrolled": true
   },
   "outputs": [],
   "source": []
  },
  {
   "cell_type": "markdown",
   "id": "complicated-passport",
   "metadata": {},
   "source": [
    "### Task 5: Model Building"
   ]
  },
  {
   "cell_type": "code",
   "execution_count": 514,
   "id": "afraid-rates",
   "metadata": {},
   "outputs": [],
   "source": [
    "# Build a linear model\n",
    "model1 = build_lm(ind, dpt, ['temp'])\n",
    "model2 = build_lm(ind, dpt, ['temp', 'yr'])\n",
    "model3 = build_lm(ind, dpt, ['temp', 'yr', 'hum'])\n",
    "model4 = build_lm(ind, dpt, ['temp', 'yr', 'windspeed'])\n",
    "model5 = build_lm(ind, dpt, ['temp', 'yr', 'windspeed', 'weathersit_mist'])\n",
    "model6 = build_lm(ind, dpt, ['temp', 'yr', 'windspeed', 'weathersit_snow'])\n",
    "model7 = build_lm(ind, dpt, ['temp', 'yr', 'windspeed', 'weathersit_snow', 'season_spring'])\n",
    "model8 = build_lm(ind, dpt, ['temp', 'yr', 'windspeed', 'weathersit_snow', 'season_spring', 'season_winter'])\n",
    "model9 = build_lm(ind, dpt, ['temp', 'yr', 'windspeed', 'weathersit_snow', 'season_spring', 'season_summer'])"
   ]
  },
  {
   "cell_type": "code",
   "execution_count": 516,
   "id": "executed-carter",
   "metadata": {},
   "outputs": [
    {
     "name": "stdout",
     "output_type": "stream",
     "text": [
      "         R Square           Adjusted R square\n",
      "         --------           -----------------\n",
      "model1:  0.4131945931890917 0.41203946443552686\n",
      "model2:  0.6935246001314601 0.6923156241950951\n",
      "model3:  0.6938367204733934 0.692021523163947\n",
      "model4:  0.6973910952603504 0.6955969713192063\n",
      "model5:  0.7098747953032218 0.707576773879881\n",
      "model6:  0.7129588646913192 0.7106852715403593\n",
      "model7:  0.7735032078640312 0.7712562158785553\n",
      "model8:  0.7802400004899898 0.7776186088457352\n",
      "model9:  0.7746118005099036 0.7719232732794055\n"
     ]
    }
   ],
   "source": [
    "print(\"         R Square           Adjusted R square\")\n",
    "print(\"         --------           -----------------\")\n",
    "print('model1: ', model1.rsquared, model1.rsquared_adj)\n",
    "print('model2: ', model2.rsquared, model2.rsquared_adj)\n",
    "print('model3: ', model3.rsquared, model3.rsquared_adj)\n",
    "print('model4: ', model4.rsquared, model4.rsquared_adj)\n",
    "print('model5: ', model5.rsquared, model5.rsquared_adj)\n",
    "print('model6: ', model6.rsquared, model6.rsquared_adj)\n",
    "print('model7: ', model7.rsquared, model7.rsquared_adj)\n",
    "print('model8: ', model8.rsquared, model8.rsquared_adj)\n",
    "print('model9: ', model9.rsquared, model9.rsquared_adj)"
   ]
  },
  {
   "cell_type": "markdown",
   "id": "smoking-cabin",
   "metadata": {},
   "source": [
    "### Based on above stats for R-square and adjusted R-square and by considering p-values for each model below, we are dropping the variables which are high p-value and r-square impact.\n",
    "- adding season_summer wont signify anything based on r^2 and adjusted R^2. Ignored them\n",
    "- hum value wont much impact R^2 and adjusted r^2. Dropping this feature"
   ]
  },
  {
   "cell_type": "code",
   "execution_count": 517,
   "id": "accepted-relief",
   "metadata": {},
   "outputs": [
    {
     "data": {
      "text/html": [
       "<table class=\"simpletable\">\n",
       "<caption>OLS Regression Results</caption>\n",
       "<tr>\n",
       "  <th>Dep. Variable:</th>           <td>cnt</td>       <th>  R-squared:         </th> <td>   0.413</td>\n",
       "</tr>\n",
       "<tr>\n",
       "  <th>Model:</th>                   <td>OLS</td>       <th>  Adj. R-squared:    </th> <td>   0.412</td>\n",
       "</tr>\n",
       "<tr>\n",
       "  <th>Method:</th>             <td>Least Squares</td>  <th>  F-statistic:       </th> <td>   357.7</td>\n",
       "</tr>\n",
       "<tr>\n",
       "  <th>Date:</th>             <td>Mon, 29 Mar 2021</td> <th>  Prob (F-statistic):</th> <td>8.65e-61</td>\n",
       "</tr>\n",
       "<tr>\n",
       "  <th>Time:</th>                 <td>10:06:36</td>     <th>  Log-Likelihood:    </th> <td> -4451.4</td>\n",
       "</tr>\n",
       "<tr>\n",
       "  <th>No. Observations:</th>      <td>   510</td>      <th>  AIC:               </th> <td>   8907.</td>\n",
       "</tr>\n",
       "<tr>\n",
       "  <th>Df Residuals:</th>          <td>   508</td>      <th>  BIC:               </th> <td>   8915.</td>\n",
       "</tr>\n",
       "<tr>\n",
       "  <th>Df Model:</th>              <td>     1</td>      <th>                     </th>     <td> </td>   \n",
       "</tr>\n",
       "<tr>\n",
       "  <th>Covariance Type:</th>      <td>nonrobust</td>    <th>                     </th>     <td> </td>   \n",
       "</tr>\n",
       "</table>\n",
       "<table class=\"simpletable\">\n",
       "<tr>\n",
       "    <td></td>       <th>coef</th>     <th>std err</th>      <th>t</th>      <th>P>|t|</th>  <th>[0.025</th>    <th>0.975]</th>  \n",
       "</tr>\n",
       "<tr>\n",
       "  <th>const</th> <td> 1523.3691</td> <td>  172.839</td> <td>    8.814</td> <td> 0.000</td> <td> 1183.801</td> <td> 1862.937</td>\n",
       "</tr>\n",
       "<tr>\n",
       "  <th>temp</th>  <td> 5582.8879</td> <td>  295.187</td> <td>   18.913</td> <td> 0.000</td> <td> 5002.951</td> <td> 6162.825</td>\n",
       "</tr>\n",
       "</table>\n",
       "<table class=\"simpletable\">\n",
       "<tr>\n",
       "  <th>Omnibus:</th>       <td>10.336</td> <th>  Durbin-Watson:     </th> <td>   1.971</td>\n",
       "</tr>\n",
       "<tr>\n",
       "  <th>Prob(Omnibus):</th> <td> 0.006</td> <th>  Jarque-Bera (JB):  </th> <td>   8.439</td>\n",
       "</tr>\n",
       "<tr>\n",
       "  <th>Skew:</th>          <td> 0.231</td> <th>  Prob(JB):          </th> <td>  0.0147</td>\n",
       "</tr>\n",
       "<tr>\n",
       "  <th>Kurtosis:</th>      <td> 2.570</td> <th>  Cond. No.          </th> <td>    5.81</td>\n",
       "</tr>\n",
       "</table><br/><br/>Notes:<br/>[1] Standard Errors assume that the covariance matrix of the errors is correctly specified."
      ],
      "text/plain": [
       "<class 'statsmodels.iolib.summary.Summary'>\n",
       "\"\"\"\n",
       "                            OLS Regression Results                            \n",
       "==============================================================================\n",
       "Dep. Variable:                    cnt   R-squared:                       0.413\n",
       "Model:                            OLS   Adj. R-squared:                  0.412\n",
       "Method:                 Least Squares   F-statistic:                     357.7\n",
       "Date:                Mon, 29 Mar 2021   Prob (F-statistic):           8.65e-61\n",
       "Time:                        10:06:36   Log-Likelihood:                -4451.4\n",
       "No. Observations:                 510   AIC:                             8907.\n",
       "Df Residuals:                     508   BIC:                             8915.\n",
       "Df Model:                           1                                         \n",
       "Covariance Type:            nonrobust                                         \n",
       "==============================================================================\n",
       "                 coef    std err          t      P>|t|      [0.025      0.975]\n",
       "------------------------------------------------------------------------------\n",
       "const       1523.3691    172.839      8.814      0.000    1183.801    1862.937\n",
       "temp        5582.8879    295.187     18.913      0.000    5002.951    6162.825\n",
       "==============================================================================\n",
       "Omnibus:                       10.336   Durbin-Watson:                   1.971\n",
       "Prob(Omnibus):                  0.006   Jarque-Bera (JB):                8.439\n",
       "Skew:                           0.231   Prob(JB):                       0.0147\n",
       "Kurtosis:                       2.570   Cond. No.                         5.81\n",
       "==============================================================================\n",
       "\n",
       "Notes:\n",
       "[1] Standard Errors assume that the covariance matrix of the errors is correctly specified.\n",
       "\"\"\""
      ]
     },
     "execution_count": 517,
     "metadata": {},
     "output_type": "execute_result"
    }
   ],
   "source": [
    "model1.summary()"
   ]
  },
  {
   "cell_type": "code",
   "execution_count": 518,
   "id": "modular-enemy",
   "metadata": {},
   "outputs": [
    {
     "data": {
      "text/html": [
       "<table class=\"simpletable\">\n",
       "<caption>OLS Regression Results</caption>\n",
       "<tr>\n",
       "  <th>Dep. Variable:</th>           <td>cnt</td>       <th>  R-squared:         </th> <td>   0.694</td> \n",
       "</tr>\n",
       "<tr>\n",
       "  <th>Model:</th>                   <td>OLS</td>       <th>  Adj. R-squared:    </th> <td>   0.692</td> \n",
       "</tr>\n",
       "<tr>\n",
       "  <th>Method:</th>             <td>Least Squares</td>  <th>  F-statistic:       </th> <td>   382.2</td> \n",
       "</tr>\n",
       "<tr>\n",
       "  <th>Date:</th>             <td>Mon, 29 Mar 2021</td> <th>  Prob (F-statistic):</th> <td>1.32e-129</td>\n",
       "</tr>\n",
       "<tr>\n",
       "  <th>Time:</th>                 <td>10:06:38</td>     <th>  Log-Likelihood:    </th> <td> -4285.5</td> \n",
       "</tr>\n",
       "<tr>\n",
       "  <th>No. Observations:</th>      <td>   510</td>      <th>  AIC:               </th> <td>   8579.</td> \n",
       "</tr>\n",
       "<tr>\n",
       "  <th>Df Residuals:</th>          <td>   506</td>      <th>  BIC:               </th> <td>   8596.</td> \n",
       "</tr>\n",
       "<tr>\n",
       "  <th>Df Model:</th>              <td>     3</td>      <th>                     </th>     <td> </td>    \n",
       "</tr>\n",
       "<tr>\n",
       "  <th>Covariance Type:</th>      <td>nonrobust</td>    <th>                     </th>     <td> </td>    \n",
       "</tr>\n",
       "</table>\n",
       "<table class=\"simpletable\">\n",
       "<tr>\n",
       "    <td></td>       <th>coef</th>     <th>std err</th>      <th>t</th>      <th>P>|t|</th>  <th>[0.025</th>    <th>0.975]</th>  \n",
       "</tr>\n",
       "<tr>\n",
       "  <th>const</th> <td>  839.2545</td> <td>  192.374</td> <td>    4.363</td> <td> 0.000</td> <td>  461.304</td> <td> 1217.205</td>\n",
       "</tr>\n",
       "<tr>\n",
       "  <th>temp</th>  <td> 5092.1677</td> <td>  217.483</td> <td>   23.414</td> <td> 0.000</td> <td> 4664.886</td> <td> 5519.449</td>\n",
       "</tr>\n",
       "<tr>\n",
       "  <th>yr</th>    <td> 2068.6484</td> <td>   97.632</td> <td>   21.188</td> <td> 0.000</td> <td> 1876.834</td> <td> 2260.463</td>\n",
       "</tr>\n",
       "<tr>\n",
       "  <th>hum</th>   <td> -192.8047</td> <td>  268.447</td> <td>   -0.718</td> <td> 0.473</td> <td> -720.212</td> <td>  334.602</td>\n",
       "</tr>\n",
       "</table>\n",
       "<table class=\"simpletable\">\n",
       "<tr>\n",
       "  <th>Omnibus:</th>       <td>17.054</td> <th>  Durbin-Watson:     </th> <td>   1.968</td>\n",
       "</tr>\n",
       "<tr>\n",
       "  <th>Prob(Omnibus):</th> <td> 0.000</td> <th>  Jarque-Bera (JB):  </th> <td>  18.782</td>\n",
       "</tr>\n",
       "<tr>\n",
       "  <th>Skew:</th>          <td>-0.392</td> <th>  Prob(JB):          </th> <td>8.35e-05</td>\n",
       "</tr>\n",
       "<tr>\n",
       "  <th>Kurtosis:</th>      <td> 3.520</td> <th>  Cond. No.          </th> <td>    9.02</td>\n",
       "</tr>\n",
       "</table><br/><br/>Notes:<br/>[1] Standard Errors assume that the covariance matrix of the errors is correctly specified."
      ],
      "text/plain": [
       "<class 'statsmodels.iolib.summary.Summary'>\n",
       "\"\"\"\n",
       "                            OLS Regression Results                            \n",
       "==============================================================================\n",
       "Dep. Variable:                    cnt   R-squared:                       0.694\n",
       "Model:                            OLS   Adj. R-squared:                  0.692\n",
       "Method:                 Least Squares   F-statistic:                     382.2\n",
       "Date:                Mon, 29 Mar 2021   Prob (F-statistic):          1.32e-129\n",
       "Time:                        10:06:38   Log-Likelihood:                -4285.5\n",
       "No. Observations:                 510   AIC:                             8579.\n",
       "Df Residuals:                     506   BIC:                             8596.\n",
       "Df Model:                           3                                         \n",
       "Covariance Type:            nonrobust                                         \n",
       "==============================================================================\n",
       "                 coef    std err          t      P>|t|      [0.025      0.975]\n",
       "------------------------------------------------------------------------------\n",
       "const        839.2545    192.374      4.363      0.000     461.304    1217.205\n",
       "temp        5092.1677    217.483     23.414      0.000    4664.886    5519.449\n",
       "yr          2068.6484     97.632     21.188      0.000    1876.834    2260.463\n",
       "hum         -192.8047    268.447     -0.718      0.473    -720.212     334.602\n",
       "==============================================================================\n",
       "Omnibus:                       17.054   Durbin-Watson:                   1.968\n",
       "Prob(Omnibus):                  0.000   Jarque-Bera (JB):               18.782\n",
       "Skew:                          -0.392   Prob(JB):                     8.35e-05\n",
       "Kurtosis:                       3.520   Cond. No.                         9.02\n",
       "==============================================================================\n",
       "\n",
       "Notes:\n",
       "[1] Standard Errors assume that the covariance matrix of the errors is correctly specified.\n",
       "\"\"\""
      ]
     },
     "execution_count": 518,
     "metadata": {},
     "output_type": "execute_result"
    }
   ],
   "source": [
    "model3.summary()"
   ]
  },
  {
   "cell_type": "code",
   "execution_count": 519,
   "id": "great-cooling",
   "metadata": {},
   "outputs": [
    {
     "data": {
      "text/html": [
       "<table class=\"simpletable\">\n",
       "<caption>OLS Regression Results</caption>\n",
       "<tr>\n",
       "  <th>Dep. Variable:</th>           <td>cnt</td>       <th>  R-squared:         </th> <td>   0.710</td> \n",
       "</tr>\n",
       "<tr>\n",
       "  <th>Model:</th>                   <td>OLS</td>       <th>  Adj. R-squared:    </th> <td>   0.708</td> \n",
       "</tr>\n",
       "<tr>\n",
       "  <th>Method:</th>             <td>Least Squares</td>  <th>  F-statistic:       </th> <td>   308.9</td> \n",
       "</tr>\n",
       "<tr>\n",
       "  <th>Date:</th>             <td>Mon, 29 Mar 2021</td> <th>  Prob (F-statistic):</th> <td>3.62e-134</td>\n",
       "</tr>\n",
       "<tr>\n",
       "  <th>Time:</th>                 <td>10:06:40</td>     <th>  Log-Likelihood:    </th> <td> -4271.8</td> \n",
       "</tr>\n",
       "<tr>\n",
       "  <th>No. Observations:</th>      <td>   510</td>      <th>  AIC:               </th> <td>   8554.</td> \n",
       "</tr>\n",
       "<tr>\n",
       "  <th>Df Residuals:</th>          <td>   505</td>      <th>  BIC:               </th> <td>   8575.</td> \n",
       "</tr>\n",
       "<tr>\n",
       "  <th>Df Model:</th>              <td>     4</td>      <th>                     </th>     <td> </td>    \n",
       "</tr>\n",
       "<tr>\n",
       "  <th>Covariance Type:</th>      <td>nonrobust</td>    <th>                     </th>     <td> </td>    \n",
       "</tr>\n",
       "</table>\n",
       "<table class=\"simpletable\">\n",
       "<tr>\n",
       "         <td></td>            <th>coef</th>     <th>std err</th>      <th>t</th>      <th>P>|t|</th>  <th>[0.025</th>    <th>0.975]</th>  \n",
       "</tr>\n",
       "<tr>\n",
       "  <th>const</th>           <td> 1236.4986</td> <td>  177.886</td> <td>    6.951</td> <td> 0.000</td> <td>  887.011</td> <td> 1585.986</td>\n",
       "</tr>\n",
       "<tr>\n",
       "  <th>temp</th>            <td> 4919.0543</td> <td>  211.720</td> <td>   23.234</td> <td> 0.000</td> <td> 4503.094</td> <td> 5335.015</td>\n",
       "</tr>\n",
       "<tr>\n",
       "  <th>yr</th>              <td> 2057.9743</td> <td>   94.201</td> <td>   21.847</td> <td> 0.000</td> <td> 1872.900</td> <td> 2243.049</td>\n",
       "</tr>\n",
       "<tr>\n",
       "  <th>windspeed</th>       <td> -716.8312</td> <td>  297.990</td> <td>   -2.406</td> <td> 0.017</td> <td>-1302.284</td> <td> -131.378</td>\n",
       "</tr>\n",
       "<tr>\n",
       "  <th>weathersit_mist</th> <td> -459.9092</td> <td>   98.661</td> <td>   -4.661</td> <td> 0.000</td> <td> -653.747</td> <td> -266.072</td>\n",
       "</tr>\n",
       "</table>\n",
       "<table class=\"simpletable\">\n",
       "<tr>\n",
       "  <th>Omnibus:</th>       <td>19.532</td> <th>  Durbin-Watson:     </th> <td>   1.976</td>\n",
       "</tr>\n",
       "<tr>\n",
       "  <th>Prob(Omnibus):</th> <td> 0.000</td> <th>  Jarque-Bera (JB):  </th> <td>  23.326</td>\n",
       "</tr>\n",
       "<tr>\n",
       "  <th>Skew:</th>          <td>-0.393</td> <th>  Prob(JB):          </th> <td>8.60e-06</td>\n",
       "</tr>\n",
       "<tr>\n",
       "  <th>Kurtosis:</th>      <td> 3.692</td> <th>  Cond. No.          </th> <td>    9.68</td>\n",
       "</tr>\n",
       "</table><br/><br/>Notes:<br/>[1] Standard Errors assume that the covariance matrix of the errors is correctly specified."
      ],
      "text/plain": [
       "<class 'statsmodels.iolib.summary.Summary'>\n",
       "\"\"\"\n",
       "                            OLS Regression Results                            \n",
       "==============================================================================\n",
       "Dep. Variable:                    cnt   R-squared:                       0.710\n",
       "Model:                            OLS   Adj. R-squared:                  0.708\n",
       "Method:                 Least Squares   F-statistic:                     308.9\n",
       "Date:                Mon, 29 Mar 2021   Prob (F-statistic):          3.62e-134\n",
       "Time:                        10:06:40   Log-Likelihood:                -4271.8\n",
       "No. Observations:                 510   AIC:                             8554.\n",
       "Df Residuals:                     505   BIC:                             8575.\n",
       "Df Model:                           4                                         \n",
       "Covariance Type:            nonrobust                                         \n",
       "===================================================================================\n",
       "                      coef    std err          t      P>|t|      [0.025      0.975]\n",
       "-----------------------------------------------------------------------------------\n",
       "const            1236.4986    177.886      6.951      0.000     887.011    1585.986\n",
       "temp             4919.0543    211.720     23.234      0.000    4503.094    5335.015\n",
       "yr               2057.9743     94.201     21.847      0.000    1872.900    2243.049\n",
       "windspeed        -716.8312    297.990     -2.406      0.017   -1302.284    -131.378\n",
       "weathersit_mist  -459.9092     98.661     -4.661      0.000    -653.747    -266.072\n",
       "==============================================================================\n",
       "Omnibus:                       19.532   Durbin-Watson:                   1.976\n",
       "Prob(Omnibus):                  0.000   Jarque-Bera (JB):               23.326\n",
       "Skew:                          -0.393   Prob(JB):                     8.60e-06\n",
       "Kurtosis:                       3.692   Cond. No.                         9.68\n",
       "==============================================================================\n",
       "\n",
       "Notes:\n",
       "[1] Standard Errors assume that the covariance matrix of the errors is correctly specified.\n",
       "\"\"\""
      ]
     },
     "execution_count": 519,
     "metadata": {},
     "output_type": "execute_result"
    }
   ],
   "source": [
    "model5.summary()"
   ]
  },
  {
   "cell_type": "code",
   "execution_count": 520,
   "id": "thousand-rubber",
   "metadata": {},
   "outputs": [
    {
     "data": {
      "text/html": [
       "<table class=\"simpletable\">\n",
       "<caption>OLS Regression Results</caption>\n",
       "<tr>\n",
       "  <th>Dep. Variable:</th>           <td>cnt</td>       <th>  R-squared:         </th> <td>   0.774</td> \n",
       "</tr>\n",
       "<tr>\n",
       "  <th>Model:</th>                   <td>OLS</td>       <th>  Adj. R-squared:    </th> <td>   0.771</td> \n",
       "</tr>\n",
       "<tr>\n",
       "  <th>Method:</th>             <td>Least Squares</td>  <th>  F-statistic:       </th> <td>   344.2</td> \n",
       "</tr>\n",
       "<tr>\n",
       "  <th>Date:</th>             <td>Mon, 29 Mar 2021</td> <th>  Prob (F-statistic):</th> <td>6.18e-160</td>\n",
       "</tr>\n",
       "<tr>\n",
       "  <th>Time:</th>                 <td>10:06:42</td>     <th>  Log-Likelihood:    </th> <td> -4208.7</td> \n",
       "</tr>\n",
       "<tr>\n",
       "  <th>No. Observations:</th>      <td>   510</td>      <th>  AIC:               </th> <td>   8429.</td> \n",
       "</tr>\n",
       "<tr>\n",
       "  <th>Df Residuals:</th>          <td>   504</td>      <th>  BIC:               </th> <td>   8455.</td> \n",
       "</tr>\n",
       "<tr>\n",
       "  <th>Df Model:</th>              <td>     5</td>      <th>                     </th>     <td> </td>    \n",
       "</tr>\n",
       "<tr>\n",
       "  <th>Covariance Type:</th>      <td>nonrobust</td>    <th>                     </th>     <td> </td>    \n",
       "</tr>\n",
       "</table>\n",
       "<table class=\"simpletable\">\n",
       "<tr>\n",
       "         <td></td>            <th>coef</th>     <th>std err</th>      <th>t</th>      <th>P>|t|</th>  <th>[0.025</th>    <th>0.975]</th>  \n",
       "</tr>\n",
       "<tr>\n",
       "  <th>const</th>           <td> 2196.9905</td> <td>  180.820</td> <td>   12.150</td> <td> 0.000</td> <td> 1841.736</td> <td> 2552.245</td>\n",
       "</tr>\n",
       "<tr>\n",
       "  <th>temp</th>            <td> 3356.3871</td> <td>  233.387</td> <td>   14.381</td> <td> 0.000</td> <td> 2897.855</td> <td> 3814.919</td>\n",
       "</tr>\n",
       "<tr>\n",
       "  <th>yr</th>              <td> 2067.9699</td> <td>   83.499</td> <td>   24.766</td> <td> 0.000</td> <td> 1903.921</td> <td> 2232.019</td>\n",
       "</tr>\n",
       "<tr>\n",
       "  <th>windspeed</th>       <td> -407.3183</td> <td>  264.834</td> <td>   -1.538</td> <td> 0.125</td> <td> -927.632</td> <td>  112.996</td>\n",
       "</tr>\n",
       "<tr>\n",
       "  <th>weathersit_snow</th> <td>-1994.3530</td> <td>  287.054</td> <td>   -6.948</td> <td> 0.000</td> <td>-2558.323</td> <td>-1430.383</td>\n",
       "</tr>\n",
       "<tr>\n",
       "  <th>season_spring</th>   <td>-1417.6694</td> <td>  122.139</td> <td>  -11.607</td> <td> 0.000</td> <td>-1657.633</td> <td>-1177.705</td>\n",
       "</tr>\n",
       "</table>\n",
       "<table class=\"simpletable\">\n",
       "<tr>\n",
       "  <th>Omnibus:</th>       <td>59.165</td> <th>  Durbin-Watson:     </th> <td>   1.989</td>\n",
       "</tr>\n",
       "<tr>\n",
       "  <th>Prob(Omnibus):</th> <td> 0.000</td> <th>  Jarque-Bera (JB):  </th> <td> 120.284</td>\n",
       "</tr>\n",
       "<tr>\n",
       "  <th>Skew:</th>          <td>-0.665</td> <th>  Prob(JB):          </th> <td>7.60e-27</td>\n",
       "</tr>\n",
       "<tr>\n",
       "  <th>Kurtosis:</th>      <td> 4.972</td> <th>  Cond. No.          </th> <td>    10.0</td>\n",
       "</tr>\n",
       "</table><br/><br/>Notes:<br/>[1] Standard Errors assume that the covariance matrix of the errors is correctly specified."
      ],
      "text/plain": [
       "<class 'statsmodels.iolib.summary.Summary'>\n",
       "\"\"\"\n",
       "                            OLS Regression Results                            \n",
       "==============================================================================\n",
       "Dep. Variable:                    cnt   R-squared:                       0.774\n",
       "Model:                            OLS   Adj. R-squared:                  0.771\n",
       "Method:                 Least Squares   F-statistic:                     344.2\n",
       "Date:                Mon, 29 Mar 2021   Prob (F-statistic):          6.18e-160\n",
       "Time:                        10:06:42   Log-Likelihood:                -4208.7\n",
       "No. Observations:                 510   AIC:                             8429.\n",
       "Df Residuals:                     504   BIC:                             8455.\n",
       "Df Model:                           5                                         \n",
       "Covariance Type:            nonrobust                                         \n",
       "===================================================================================\n",
       "                      coef    std err          t      P>|t|      [0.025      0.975]\n",
       "-----------------------------------------------------------------------------------\n",
       "const            2196.9905    180.820     12.150      0.000    1841.736    2552.245\n",
       "temp             3356.3871    233.387     14.381      0.000    2897.855    3814.919\n",
       "yr               2067.9699     83.499     24.766      0.000    1903.921    2232.019\n",
       "windspeed        -407.3183    264.834     -1.538      0.125    -927.632     112.996\n",
       "weathersit_snow -1994.3530    287.054     -6.948      0.000   -2558.323   -1430.383\n",
       "season_spring   -1417.6694    122.139    -11.607      0.000   -1657.633   -1177.705\n",
       "==============================================================================\n",
       "Omnibus:                       59.165   Durbin-Watson:                   1.989\n",
       "Prob(Omnibus):                  0.000   Jarque-Bera (JB):              120.284\n",
       "Skew:                          -0.665   Prob(JB):                     7.60e-27\n",
       "Kurtosis:                       4.972   Cond. No.                         10.0\n",
       "==============================================================================\n",
       "\n",
       "Notes:\n",
       "[1] Standard Errors assume that the covariance matrix of the errors is correctly specified.\n",
       "\"\"\""
      ]
     },
     "execution_count": 520,
     "metadata": {},
     "output_type": "execute_result"
    }
   ],
   "source": [
    "model7.summary()"
   ]
  },
  {
   "cell_type": "code",
   "execution_count": 521,
   "id": "israeli-local",
   "metadata": {},
   "outputs": [
    {
     "data": {
      "text/html": [
       "<table class=\"simpletable\">\n",
       "<caption>OLS Regression Results</caption>\n",
       "<tr>\n",
       "  <th>Dep. Variable:</th>           <td>cnt</td>       <th>  R-squared:         </th> <td>   0.775</td> \n",
       "</tr>\n",
       "<tr>\n",
       "  <th>Model:</th>                   <td>OLS</td>       <th>  Adj. R-squared:    </th> <td>   0.772</td> \n",
       "</tr>\n",
       "<tr>\n",
       "  <th>Method:</th>             <td>Least Squares</td>  <th>  F-statistic:       </th> <td>   288.1</td> \n",
       "</tr>\n",
       "<tr>\n",
       "  <th>Date:</th>             <td>Mon, 29 Mar 2021</td> <th>  Prob (F-statistic):</th> <td>3.52e-159</td>\n",
       "</tr>\n",
       "<tr>\n",
       "  <th>Time:</th>                 <td>10:06:44</td>     <th>  Log-Likelihood:    </th> <td> -4207.4</td> \n",
       "</tr>\n",
       "<tr>\n",
       "  <th>No. Observations:</th>      <td>   510</td>      <th>  AIC:               </th> <td>   8429.</td> \n",
       "</tr>\n",
       "<tr>\n",
       "  <th>Df Residuals:</th>          <td>   503</td>      <th>  BIC:               </th> <td>   8458.</td> \n",
       "</tr>\n",
       "<tr>\n",
       "  <th>Df Model:</th>              <td>     6</td>      <th>                     </th>     <td> </td>    \n",
       "</tr>\n",
       "<tr>\n",
       "  <th>Covariance Type:</th>      <td>nonrobust</td>    <th>                     </th>     <td> </td>    \n",
       "</tr>\n",
       "</table>\n",
       "<table class=\"simpletable\">\n",
       "<tr>\n",
       "         <td></td>            <th>coef</th>     <th>std err</th>      <th>t</th>      <th>P>|t|</th>  <th>[0.025</th>    <th>0.975]</th>  \n",
       "</tr>\n",
       "<tr>\n",
       "  <th>const</th>           <td> 2246.0498</td> <td>  183.231</td> <td>   12.258</td> <td> 0.000</td> <td> 1886.058</td> <td> 2606.041</td>\n",
       "</tr>\n",
       "<tr>\n",
       "  <th>temp</th>            <td> 3325.8041</td> <td>  233.857</td> <td>   14.222</td> <td> 0.000</td> <td> 2866.348</td> <td> 3785.260</td>\n",
       "</tr>\n",
       "<tr>\n",
       "  <th>yr</th>              <td> 2069.5578</td> <td>   83.383</td> <td>   24.820</td> <td> 0.000</td> <td> 1905.736</td> <td> 2233.380</td>\n",
       "</tr>\n",
       "<tr>\n",
       "  <th>windspeed</th>       <td> -341.2435</td> <td>  267.763</td> <td>   -1.274</td> <td> 0.203</td> <td> -867.315</td> <td>  184.828</td>\n",
       "</tr>\n",
       "<tr>\n",
       "  <th>weathersit_snow</th> <td>-2019.8743</td> <td>  287.094</td> <td>   -7.036</td> <td> 0.000</td> <td>-2583.926</td> <td>-1455.823</td>\n",
       "</tr>\n",
       "<tr>\n",
       "  <th>season_spring</th>   <td>-1483.4600</td> <td>  128.934</td> <td>  -11.506</td> <td> 0.000</td> <td>-1736.775</td> <td>-1230.145</td>\n",
       "</tr>\n",
       "<tr>\n",
       "  <th>season_summer</th>   <td> -162.6287</td> <td>  103.393</td> <td>   -1.573</td> <td> 0.116</td> <td> -365.765</td> <td>   40.507</td>\n",
       "</tr>\n",
       "</table>\n",
       "<table class=\"simpletable\">\n",
       "<tr>\n",
       "  <th>Omnibus:</th>       <td>59.752</td> <th>  Durbin-Watson:     </th> <td>   1.989</td>\n",
       "</tr>\n",
       "<tr>\n",
       "  <th>Prob(Omnibus):</th> <td> 0.000</td> <th>  Jarque-Bera (JB):  </th> <td> 123.970</td>\n",
       "</tr>\n",
       "<tr>\n",
       "  <th>Skew:</th>          <td>-0.664</td> <th>  Prob(JB):          </th> <td>1.20e-27</td>\n",
       "</tr>\n",
       "<tr>\n",
       "  <th>Kurtosis:</th>      <td> 5.017</td> <th>  Cond. No.          </th> <td>    10.2</td>\n",
       "</tr>\n",
       "</table><br/><br/>Notes:<br/>[1] Standard Errors assume that the covariance matrix of the errors is correctly specified."
      ],
      "text/plain": [
       "<class 'statsmodels.iolib.summary.Summary'>\n",
       "\"\"\"\n",
       "                            OLS Regression Results                            \n",
       "==============================================================================\n",
       "Dep. Variable:                    cnt   R-squared:                       0.775\n",
       "Model:                            OLS   Adj. R-squared:                  0.772\n",
       "Method:                 Least Squares   F-statistic:                     288.1\n",
       "Date:                Mon, 29 Mar 2021   Prob (F-statistic):          3.52e-159\n",
       "Time:                        10:06:44   Log-Likelihood:                -4207.4\n",
       "No. Observations:                 510   AIC:                             8429.\n",
       "Df Residuals:                     503   BIC:                             8458.\n",
       "Df Model:                           6                                         \n",
       "Covariance Type:            nonrobust                                         \n",
       "===================================================================================\n",
       "                      coef    std err          t      P>|t|      [0.025      0.975]\n",
       "-----------------------------------------------------------------------------------\n",
       "const            2246.0498    183.231     12.258      0.000    1886.058    2606.041\n",
       "temp             3325.8041    233.857     14.222      0.000    2866.348    3785.260\n",
       "yr               2069.5578     83.383     24.820      0.000    1905.736    2233.380\n",
       "windspeed        -341.2435    267.763     -1.274      0.203    -867.315     184.828\n",
       "weathersit_snow -2019.8743    287.094     -7.036      0.000   -2583.926   -1455.823\n",
       "season_spring   -1483.4600    128.934    -11.506      0.000   -1736.775   -1230.145\n",
       "season_summer    -162.6287    103.393     -1.573      0.116    -365.765      40.507\n",
       "==============================================================================\n",
       "Omnibus:                       59.752   Durbin-Watson:                   1.989\n",
       "Prob(Omnibus):                  0.000   Jarque-Bera (JB):              123.970\n",
       "Skew:                          -0.664   Prob(JB):                     1.20e-27\n",
       "Kurtosis:                       5.017   Cond. No.                         10.2\n",
       "==============================================================================\n",
       "\n",
       "Notes:\n",
       "[1] Standard Errors assume that the covariance matrix of the errors is correctly specified.\n",
       "\"\"\""
      ]
     },
     "execution_count": 521,
     "metadata": {},
     "output_type": "execute_result"
    }
   ],
   "source": [
    "model9.summary()"
   ]
  },
  {
   "cell_type": "code",
   "execution_count": 523,
   "id": "voluntary-founder",
   "metadata": {},
   "outputs": [
    {
     "data": {
      "text/html": [
       "<table class=\"simpletable\">\n",
       "<caption>OLS Regression Results</caption>\n",
       "<tr>\n",
       "  <th>Dep. Variable:</th>           <td>cnt</td>       <th>  R-squared:         </th> <td>   0.780</td> \n",
       "</tr>\n",
       "<tr>\n",
       "  <th>Model:</th>                   <td>OLS</td>       <th>  Adj. R-squared:    </th> <td>   0.778</td> \n",
       "</tr>\n",
       "<tr>\n",
       "  <th>Method:</th>             <td>Least Squares</td>  <th>  F-statistic:       </th> <td>   297.6</td> \n",
       "</tr>\n",
       "<tr>\n",
       "  <th>Date:</th>             <td>Mon, 29 Mar 2021</td> <th>  Prob (F-statistic):</th> <td>6.18e-162</td>\n",
       "</tr>\n",
       "<tr>\n",
       "  <th>Time:</th>                 <td>10:07:37</td>     <th>  Log-Likelihood:    </th> <td> -4201.0</td> \n",
       "</tr>\n",
       "<tr>\n",
       "  <th>No. Observations:</th>      <td>   510</td>      <th>  AIC:               </th> <td>   8416.</td> \n",
       "</tr>\n",
       "<tr>\n",
       "  <th>Df Residuals:</th>          <td>   503</td>      <th>  BIC:               </th> <td>   8446.</td> \n",
       "</tr>\n",
       "<tr>\n",
       "  <th>Df Model:</th>              <td>     6</td>      <th>                     </th>     <td> </td>    \n",
       "</tr>\n",
       "<tr>\n",
       "  <th>Covariance Type:</th>      <td>nonrobust</td>    <th>                     </th>     <td> </td>    \n",
       "</tr>\n",
       "</table>\n",
       "<table class=\"simpletable\">\n",
       "<tr>\n",
       "         <td></td>            <th>coef</th>     <th>std err</th>      <th>t</th>      <th>P>|t|</th>  <th>[0.025</th>    <th>0.975]</th>  \n",
       "</tr>\n",
       "<tr>\n",
       "  <th>const</th>           <td> 1621.1196</td> <td>  230.854</td> <td>    7.022</td> <td> 0.000</td> <td> 1167.563</td> <td> 2074.676</td>\n",
       "</tr>\n",
       "<tr>\n",
       "  <th>temp</th>            <td> 4000.2132</td> <td>  282.554</td> <td>   14.157</td> <td> 0.000</td> <td> 3445.082</td> <td> 4555.345</td>\n",
       "</tr>\n",
       "<tr>\n",
       "  <th>yr</th>              <td> 2054.6004</td> <td>   82.400</td> <td>   24.935</td> <td> 0.000</td> <td> 1892.710</td> <td> 2216.491</td>\n",
       "</tr>\n",
       "<tr>\n",
       "  <th>windspeed</th>       <td> -322.9385</td> <td>  262.007</td> <td>   -1.233</td> <td> 0.218</td> <td> -837.702</td> <td>  191.825</td>\n",
       "</tr>\n",
       "<tr>\n",
       "  <th>weathersit_snow</th> <td>-2017.4461</td> <td>  283.095</td> <td>   -7.126</td> <td> 0.000</td> <td>-2573.640</td> <td>-1461.252</td>\n",
       "</tr>\n",
       "<tr>\n",
       "  <th>season_spring</th>   <td>-1061.4964</td> <td>  150.765</td> <td>   -7.041</td> <td> 0.000</td> <td>-1357.703</td> <td> -765.289</td>\n",
       "</tr>\n",
       "<tr>\n",
       "  <th>season_winter</th>   <td>  483.3251</td> <td>  123.084</td> <td>    3.927</td> <td> 0.000</td> <td>  241.502</td> <td>  725.148</td>\n",
       "</tr>\n",
       "</table>\n",
       "<table class=\"simpletable\">\n",
       "<tr>\n",
       "  <th>Omnibus:</th>       <td>66.074</td> <th>  Durbin-Watson:     </th> <td>   1.978</td>\n",
       "</tr>\n",
       "<tr>\n",
       "  <th>Prob(Omnibus):</th> <td> 0.000</td> <th>  Jarque-Bera (JB):  </th> <td> 147.492</td>\n",
       "</tr>\n",
       "<tr>\n",
       "  <th>Skew:</th>          <td>-0.702</td> <th>  Prob(JB):          </th> <td>9.39e-33</td>\n",
       "</tr>\n",
       "<tr>\n",
       "  <th>Kurtosis:</th>      <td> 5.229</td> <th>  Cond. No.          </th> <td>    12.9</td>\n",
       "</tr>\n",
       "</table><br/><br/>Notes:<br/>[1] Standard Errors assume that the covariance matrix of the errors is correctly specified."
      ],
      "text/plain": [
       "<class 'statsmodels.iolib.summary.Summary'>\n",
       "\"\"\"\n",
       "                            OLS Regression Results                            \n",
       "==============================================================================\n",
       "Dep. Variable:                    cnt   R-squared:                       0.780\n",
       "Model:                            OLS   Adj. R-squared:                  0.778\n",
       "Method:                 Least Squares   F-statistic:                     297.6\n",
       "Date:                Mon, 29 Mar 2021   Prob (F-statistic):          6.18e-162\n",
       "Time:                        10:07:37   Log-Likelihood:                -4201.0\n",
       "No. Observations:                 510   AIC:                             8416.\n",
       "Df Residuals:                     503   BIC:                             8446.\n",
       "Df Model:                           6                                         \n",
       "Covariance Type:            nonrobust                                         \n",
       "===================================================================================\n",
       "                      coef    std err          t      P>|t|      [0.025      0.975]\n",
       "-----------------------------------------------------------------------------------\n",
       "const            1621.1196    230.854      7.022      0.000    1167.563    2074.676\n",
       "temp             4000.2132    282.554     14.157      0.000    3445.082    4555.345\n",
       "yr               2054.6004     82.400     24.935      0.000    1892.710    2216.491\n",
       "windspeed        -322.9385    262.007     -1.233      0.218    -837.702     191.825\n",
       "weathersit_snow -2017.4461    283.095     -7.126      0.000   -2573.640   -1461.252\n",
       "season_spring   -1061.4964    150.765     -7.041      0.000   -1357.703    -765.289\n",
       "season_winter     483.3251    123.084      3.927      0.000     241.502     725.148\n",
       "==============================================================================\n",
       "Omnibus:                       66.074   Durbin-Watson:                   1.978\n",
       "Prob(Omnibus):                  0.000   Jarque-Bera (JB):              147.492\n",
       "Skew:                          -0.702   Prob(JB):                     9.39e-33\n",
       "Kurtosis:                       5.229   Cond. No.                         12.9\n",
       "==============================================================================\n",
       "\n",
       "Notes:\n",
       "[1] Standard Errors assume that the covariance matrix of the errors is correctly specified.\n",
       "\"\"\""
      ]
     },
     "execution_count": 523,
     "metadata": {},
     "output_type": "execute_result"
    }
   ],
   "source": [
    "final_model = build_lm(ind, dpt, ['temp', 'yr', 'windspeed', 'weathersit_snow', 'season_spring', 'season_winter'])\n",
    "final_model.summary()"
   ]
  },
  {
   "cell_type": "code",
   "execution_count": 524,
   "id": "bronze-mother",
   "metadata": {},
   "outputs": [
    {
     "data": {
      "text/plain": [
       "const              1621.119567\n",
       "temp               4000.213246\n",
       "yr                 2054.600412\n",
       "windspeed          -322.938521\n",
       "weathersit_snow   -2017.446146\n",
       "season_spring     -1061.496405\n",
       "season_winter       483.325064\n",
       "dtype: float64"
      ]
     },
     "execution_count": 524,
     "metadata": {},
     "output_type": "execute_result"
    }
   ],
   "source": [
    "final_model.params"
   ]
  },
  {
   "cell_type": "code",
   "execution_count": 526,
   "id": "forward-maine",
   "metadata": {},
   "outputs": [
    {
     "data": {
      "text/html": [
       "<div>\n",
       "<style scoped>\n",
       "    .dataframe tbody tr th:only-of-type {\n",
       "        vertical-align: middle;\n",
       "    }\n",
       "\n",
       "    .dataframe tbody tr th {\n",
       "        vertical-align: top;\n",
       "    }\n",
       "\n",
       "    .dataframe thead th {\n",
       "        text-align: right;\n",
       "    }\n",
       "</style>\n",
       "<table border=\"1\" class=\"dataframe\">\n",
       "  <thead>\n",
       "    <tr style=\"text-align: right;\">\n",
       "      <th></th>\n",
       "      <th>Features</th>\n",
       "      <th>VIF</th>\n",
       "    </tr>\n",
       "  </thead>\n",
       "  <tbody>\n",
       "    <tr>\n",
       "      <th>0</th>\n",
       "      <td>temp</td>\n",
       "      <td>9.22</td>\n",
       "    </tr>\n",
       "    <tr>\n",
       "      <th>6</th>\n",
       "      <td>hum</td>\n",
       "      <td>9.19</td>\n",
       "    </tr>\n",
       "    <tr>\n",
       "      <th>2</th>\n",
       "      <td>windspeed</td>\n",
       "      <td>4.73</td>\n",
       "    </tr>\n",
       "    <tr>\n",
       "      <th>4</th>\n",
       "      <td>season_spring</td>\n",
       "      <td>2.13</td>\n",
       "    </tr>\n",
       "    <tr>\n",
       "      <th>1</th>\n",
       "      <td>yr</td>\n",
       "      <td>2.08</td>\n",
       "    </tr>\n",
       "    <tr>\n",
       "      <th>5</th>\n",
       "      <td>season_winter</td>\n",
       "      <td>1.80</td>\n",
       "    </tr>\n",
       "    <tr>\n",
       "      <th>3</th>\n",
       "      <td>weathersit_snow</td>\n",
       "      <td>1.07</td>\n",
       "    </tr>\n",
       "  </tbody>\n",
       "</table>\n",
       "</div>"
      ],
      "text/plain": [
       "          Features   VIF\n",
       "0             temp  9.22\n",
       "6              hum  9.19\n",
       "2        windspeed  4.73\n",
       "4    season_spring  2.13\n",
       "1               yr  2.08\n",
       "5    season_winter  1.80\n",
       "3  weathersit_snow  1.07"
      ]
     },
     "execution_count": 526,
     "metadata": {},
     "output_type": "execute_result"
    }
   ],
   "source": [
    "# Finding VIF\n",
    "final_data= X_train[['temp', 'yr', 'windspeed', 'weathersit_snow', 'season_spring', 'season_winter', 'hum']]\n",
    "vif = pd.DataFrame()\n",
    "vif['Features'] = final_data.columns\n",
    "vif['VIF'] = [variance_inflation_factor(final_data.values, i) for i in range(final_data.shape[1])]\n",
    "vif['VIF'] = round(vif['VIF'], 2)\n",
    "vif = vif.sort_values(by = \"VIF\", ascending = False)\n",
    "vif"
   ]
  },
  {
   "cell_type": "markdown",
   "id": "direct-budget",
   "metadata": {},
   "source": [
    "- we can see that `temp` variable has high VIF score which is greater than 5.\n",
    "- Lets drop some variables which are high p-values.\n",
    "- From above final_model, it seems p-value for windspeed is little high when compare with others"
   ]
  },
  {
   "cell_type": "code",
   "execution_count": 527,
   "id": "trained-calculator",
   "metadata": {},
   "outputs": [
    {
     "data": {
      "text/html": [
       "<div>\n",
       "<style scoped>\n",
       "    .dataframe tbody tr th:only-of-type {\n",
       "        vertical-align: middle;\n",
       "    }\n",
       "\n",
       "    .dataframe tbody tr th {\n",
       "        vertical-align: top;\n",
       "    }\n",
       "\n",
       "    .dataframe thead th {\n",
       "        text-align: right;\n",
       "    }\n",
       "</style>\n",
       "<table border=\"1\" class=\"dataframe\">\n",
       "  <thead>\n",
       "    <tr style=\"text-align: right;\">\n",
       "      <th></th>\n",
       "      <th>Features</th>\n",
       "      <th>VIF</th>\n",
       "    </tr>\n",
       "  </thead>\n",
       "  <tbody>\n",
       "    <tr>\n",
       "      <th>2</th>\n",
       "      <td>windspeed</td>\n",
       "      <td>4.72</td>\n",
       "    </tr>\n",
       "    <tr>\n",
       "      <th>0</th>\n",
       "      <td>temp</td>\n",
       "      <td>4.08</td>\n",
       "    </tr>\n",
       "    <tr>\n",
       "      <th>1</th>\n",
       "      <td>yr</td>\n",
       "      <td>2.06</td>\n",
       "    </tr>\n",
       "    <tr>\n",
       "      <th>4</th>\n",
       "      <td>season_spring</td>\n",
       "      <td>1.65</td>\n",
       "    </tr>\n",
       "    <tr>\n",
       "      <th>5</th>\n",
       "      <td>season_winter</td>\n",
       "      <td>1.34</td>\n",
       "    </tr>\n",
       "    <tr>\n",
       "      <th>3</th>\n",
       "      <td>weathersit_snow</td>\n",
       "      <td>1.04</td>\n",
       "    </tr>\n",
       "  </tbody>\n",
       "</table>\n",
       "</div>"
      ],
      "text/plain": [
       "          Features   VIF\n",
       "2        windspeed  4.72\n",
       "0             temp  4.08\n",
       "1               yr  2.06\n",
       "4    season_spring  1.65\n",
       "5    season_winter  1.34\n",
       "3  weathersit_snow  1.04"
      ]
     },
     "execution_count": 527,
     "metadata": {},
     "output_type": "execute_result"
    }
   ],
   "source": [
    "# Finding VIF\n",
    "final_data= X_train[['temp', 'yr', 'windspeed', 'weathersit_snow', 'season_spring', 'season_winter']]\n",
    "vif = pd.DataFrame()\n",
    "vif['Features'] = final_data.columns\n",
    "vif['VIF'] = [variance_inflation_factor(final_data.values, i) for i in range(final_data.shape[1])]\n",
    "vif['VIF'] = round(vif['VIF'], 2)\n",
    "vif = vif.sort_values(by = \"VIF\", ascending = False)\n",
    "vif"
   ]
  },
  {
   "cell_type": "markdown",
   "id": "dynamic-poster",
   "metadata": {},
   "source": [
    "- Now the VIF Score is good"
   ]
  },
  {
   "cell_type": "code",
   "execution_count": 528,
   "id": "dress-somerset",
   "metadata": {},
   "outputs": [
    {
     "data": {
      "text/html": [
       "<table class=\"simpletable\">\n",
       "<caption>OLS Regression Results</caption>\n",
       "<tr>\n",
       "  <th>Dep. Variable:</th>           <td>cnt</td>       <th>  R-squared:         </th> <td>   0.780</td> \n",
       "</tr>\n",
       "<tr>\n",
       "  <th>Model:</th>                   <td>OLS</td>       <th>  Adj. R-squared:    </th> <td>   0.778</td> \n",
       "</tr>\n",
       "<tr>\n",
       "  <th>Method:</th>             <td>Least Squares</td>  <th>  F-statistic:       </th> <td>   297.6</td> \n",
       "</tr>\n",
       "<tr>\n",
       "  <th>Date:</th>             <td>Mon, 29 Mar 2021</td> <th>  Prob (F-statistic):</th> <td>6.18e-162</td>\n",
       "</tr>\n",
       "<tr>\n",
       "  <th>Time:</th>                 <td>10:09:45</td>     <th>  Log-Likelihood:    </th> <td> -4201.0</td> \n",
       "</tr>\n",
       "<tr>\n",
       "  <th>No. Observations:</th>      <td>   510</td>      <th>  AIC:               </th> <td>   8416.</td> \n",
       "</tr>\n",
       "<tr>\n",
       "  <th>Df Residuals:</th>          <td>   503</td>      <th>  BIC:               </th> <td>   8446.</td> \n",
       "</tr>\n",
       "<tr>\n",
       "  <th>Df Model:</th>              <td>     6</td>      <th>                     </th>     <td> </td>    \n",
       "</tr>\n",
       "<tr>\n",
       "  <th>Covariance Type:</th>      <td>nonrobust</td>    <th>                     </th>     <td> </td>    \n",
       "</tr>\n",
       "</table>\n",
       "<table class=\"simpletable\">\n",
       "<tr>\n",
       "         <td></td>            <th>coef</th>     <th>std err</th>      <th>t</th>      <th>P>|t|</th>  <th>[0.025</th>    <th>0.975]</th>  \n",
       "</tr>\n",
       "<tr>\n",
       "  <th>const</th>           <td> 1621.1196</td> <td>  230.854</td> <td>    7.022</td> <td> 0.000</td> <td> 1167.563</td> <td> 2074.676</td>\n",
       "</tr>\n",
       "<tr>\n",
       "  <th>temp</th>            <td> 4000.2132</td> <td>  282.554</td> <td>   14.157</td> <td> 0.000</td> <td> 3445.082</td> <td> 4555.345</td>\n",
       "</tr>\n",
       "<tr>\n",
       "  <th>yr</th>              <td> 2054.6004</td> <td>   82.400</td> <td>   24.935</td> <td> 0.000</td> <td> 1892.710</td> <td> 2216.491</td>\n",
       "</tr>\n",
       "<tr>\n",
       "  <th>windspeed</th>       <td> -322.9385</td> <td>  262.007</td> <td>   -1.233</td> <td> 0.218</td> <td> -837.702</td> <td>  191.825</td>\n",
       "</tr>\n",
       "<tr>\n",
       "  <th>weathersit_snow</th> <td>-2017.4461</td> <td>  283.095</td> <td>   -7.126</td> <td> 0.000</td> <td>-2573.640</td> <td>-1461.252</td>\n",
       "</tr>\n",
       "<tr>\n",
       "  <th>season_spring</th>   <td>-1061.4964</td> <td>  150.765</td> <td>   -7.041</td> <td> 0.000</td> <td>-1357.703</td> <td> -765.289</td>\n",
       "</tr>\n",
       "<tr>\n",
       "  <th>season_winter</th>   <td>  483.3251</td> <td>  123.084</td> <td>    3.927</td> <td> 0.000</td> <td>  241.502</td> <td>  725.148</td>\n",
       "</tr>\n",
       "</table>\n",
       "<table class=\"simpletable\">\n",
       "<tr>\n",
       "  <th>Omnibus:</th>       <td>66.074</td> <th>  Durbin-Watson:     </th> <td>   1.978</td>\n",
       "</tr>\n",
       "<tr>\n",
       "  <th>Prob(Omnibus):</th> <td> 0.000</td> <th>  Jarque-Bera (JB):  </th> <td> 147.492</td>\n",
       "</tr>\n",
       "<tr>\n",
       "  <th>Skew:</th>          <td>-0.702</td> <th>  Prob(JB):          </th> <td>9.39e-33</td>\n",
       "</tr>\n",
       "<tr>\n",
       "  <th>Kurtosis:</th>      <td> 5.229</td> <th>  Cond. No.          </th> <td>    12.9</td>\n",
       "</tr>\n",
       "</table><br/><br/>Notes:<br/>[1] Standard Errors assume that the covariance matrix of the errors is correctly specified."
      ],
      "text/plain": [
       "<class 'statsmodels.iolib.summary.Summary'>\n",
       "\"\"\"\n",
       "                            OLS Regression Results                            \n",
       "==============================================================================\n",
       "Dep. Variable:                    cnt   R-squared:                       0.780\n",
       "Model:                            OLS   Adj. R-squared:                  0.778\n",
       "Method:                 Least Squares   F-statistic:                     297.6\n",
       "Date:                Mon, 29 Mar 2021   Prob (F-statistic):          6.18e-162\n",
       "Time:                        10:09:45   Log-Likelihood:                -4201.0\n",
       "No. Observations:                 510   AIC:                             8416.\n",
       "Df Residuals:                     503   BIC:                             8446.\n",
       "Df Model:                           6                                         \n",
       "Covariance Type:            nonrobust                                         \n",
       "===================================================================================\n",
       "                      coef    std err          t      P>|t|      [0.025      0.975]\n",
       "-----------------------------------------------------------------------------------\n",
       "const            1621.1196    230.854      7.022      0.000    1167.563    2074.676\n",
       "temp             4000.2132    282.554     14.157      0.000    3445.082    4555.345\n",
       "yr               2054.6004     82.400     24.935      0.000    1892.710    2216.491\n",
       "windspeed        -322.9385    262.007     -1.233      0.218    -837.702     191.825\n",
       "weathersit_snow -2017.4461    283.095     -7.126      0.000   -2573.640   -1461.252\n",
       "season_spring   -1061.4964    150.765     -7.041      0.000   -1357.703    -765.289\n",
       "season_winter     483.3251    123.084      3.927      0.000     241.502     725.148\n",
       "==============================================================================\n",
       "Omnibus:                       66.074   Durbin-Watson:                   1.978\n",
       "Prob(Omnibus):                  0.000   Jarque-Bera (JB):              147.492\n",
       "Skew:                          -0.702   Prob(JB):                     9.39e-33\n",
       "Kurtosis:                       5.229   Cond. No.                         12.9\n",
       "==============================================================================\n",
       "\n",
       "Notes:\n",
       "[1] Standard Errors assume that the covariance matrix of the errors is correctly specified.\n",
       "\"\"\""
      ]
     },
     "execution_count": 528,
     "metadata": {},
     "output_type": "execute_result"
    }
   ],
   "source": [
    "final_model = build_lm(ind, dpt, ['temp', 'yr', 'windspeed', 'weathersit_snow', 'season_spring', 'season_winter'])\n",
    "final_model.summary()"
   ]
  },
  {
   "cell_type": "code",
   "execution_count": 529,
   "id": "bored-universe",
   "metadata": {},
   "outputs": [
    {
     "data": {
      "text/plain": [
       "const              1621.119567\n",
       "temp               4000.213246\n",
       "yr                 2054.600412\n",
       "windspeed          -322.938521\n",
       "weathersit_snow   -2017.446146\n",
       "season_spring     -1061.496405\n",
       "season_winter       483.325064\n",
       "dtype: float64"
      ]
     },
     "execution_count": 529,
     "metadata": {},
     "output_type": "execute_result"
    }
   ],
   "source": [
    "final_model.params"
   ]
  },
  {
   "cell_type": "code",
   "execution_count": null,
   "id": "immune-uruguay",
   "metadata": {},
   "outputs": [],
   "source": []
  },
  {
   "cell_type": "markdown",
   "id": "deluxe-heather",
   "metadata": {},
   "source": [
    "### Step 6: Model Evaluation"
   ]
  },
  {
   "cell_type": "code",
   "execution_count": 530,
   "id": "touched-geneva",
   "metadata": {},
   "outputs": [],
   "source": [
    "X_test['windspeed'] = X_test['windspeed'].fillna(X_test['windspeed'].mean())\n",
    "X_test['hum'] = X_test['hum'].fillna(X_test['hum'].mean())\n",
    "X_test['temp'] = X_test['temp'].fillna(X_test['temp'].mean())"
   ]
  },
  {
   "cell_type": "code",
   "execution_count": 531,
   "id": "charitable-dover",
   "metadata": {},
   "outputs": [
    {
     "name": "stdout",
     "output_type": "stream",
     "text": [
      "<class 'pandas.core.frame.DataFrame'>\n",
      "Int64Index: 219 entries, 185 to 73\n",
      "Data columns (total 10 columns):\n",
      " #   Column           Non-Null Count  Dtype  \n",
      "---  ------           --------------  -----  \n",
      " 0   yr               219 non-null    int64  \n",
      " 1   holiday          219 non-null    int64  \n",
      " 2   temp             219 non-null    float64\n",
      " 3   hum              219 non-null    float64\n",
      " 4   windspeed        219 non-null    float64\n",
      " 5   season_spring    219 non-null    uint8  \n",
      " 6   season_summer    219 non-null    uint8  \n",
      " 7   season_winter    219 non-null    uint8  \n",
      " 8   weathersit_mist  219 non-null    uint8  \n",
      " 9   weathersit_snow  219 non-null    uint8  \n",
      "dtypes: float64(3), int64(2), uint8(5)\n",
      "memory usage: 11.3 KB\n"
     ]
    }
   ],
   "source": [
    "X_test.info()"
   ]
  },
  {
   "cell_type": "code",
   "execution_count": 532,
   "id": "concerned-balloon",
   "metadata": {},
   "outputs": [],
   "source": [
    "final_features = ['temp', 'yr', 'windspeed', 'weathersit_snow', 'season_spring', 'season_winter']\n",
    "final_model = LinearRegression().fit(X_train[final_features], y_train)\n",
    "y_predict = final_model.predict(X_test[['temp', 'yr', 'windspeed', 'weathersit_snow', 'season_spring', 'season_winter']])"
   ]
  },
  {
   "cell_type": "code",
   "execution_count": 533,
   "id": "royal-accused",
   "metadata": {},
   "outputs": [
    {
     "name": "stdout",
     "output_type": "stream",
     "text": [
      "Accuracy:  0.7699763642997153\n"
     ]
    }
   ],
   "source": [
    "print('Accuracy: ', final_model.score(X_test[['temp', 'yr', 'windspeed', 'weathersit_snow', 'season_spring', 'season_winter']], y_test))"
   ]
  },
  {
   "cell_type": "code",
   "execution_count": 534,
   "id": "revised-tension",
   "metadata": {},
   "outputs": [
    {
     "data": {
      "text/plain": [
       "[<matplotlib.lines.Line2D at 0x7fda97733d30>]"
      ]
     },
     "execution_count": 534,
     "metadata": {},
     "output_type": "execute_result"
    },
    {
     "data": {
      "image/png": "[encoded data removed]",
      "text/plain": [
       "<Figure size 864x576 with 1 Axes>"
      ]
     },
     "metadata": {},
     "output_type": "display_data"
    }
   ],
   "source": [
    "plt.plot(y_test, y_predict, '^')"
   ]
  },
  {
   "cell_type": "markdown",
   "id": "isolated-motel",
   "metadata": {},
   "source": [
    "###  Based on accuracy of 77% and the linear graph above we can say this final_model has good fit for predicting values"
   ]
  },
  {
   "cell_type": "code",
   "execution_count": 535,
   "id": "rough-experiment",
   "metadata": {},
   "outputs": [
    {
     "name": "stdout",
     "output_type": "stream",
     "text": [
      "MSE:  814604.3742900641 \n",
      "RMSE:  902.554 \n",
      "MAE:  695.6077142238383 \n",
      "Rsquare:  0.7699763642997153 \n",
      "adj_rsquare:  0.7589175356602785\n"
     ]
    }
   ],
   "source": [
    "k = X_test.shape[1]\n",
    "n = len(X_test)\n",
    "\n",
    "# KPI's \n",
    "MSE = mean_squared_error(y_test, y_predict)\n",
    "RMSE = float(format(np.sqrt(MSE), '.3f'))\n",
    "MAE = mean_absolute_error(y_test, y_predict)\n",
    "Rsquare = r2_score(y_test, y_predict)\n",
    "adj_rsquare = 1-(1-Rsquare)*(n-1)/(n-k-1)\n",
    "\n",
    "print(\"MSE: \", MSE, \"\\nRMSE: \", RMSE, '\\nMAE: ', MAE, '\\nRsquare: ', Rsquare, '\\nadj_rsquare: ', adj_rsquare)"
   ]
  },
  {
   "cell_type": "markdown",
   "id": "impaired-criticism",
   "metadata": {},
   "source": [
    "> Overfitting\n",
    "- As we have less variables < 10 independent variables, this model is not overfit by nature"
   ]
  },
  {
   "cell_type": "markdown",
   "id": "equivalent-immunology",
   "metadata": {},
   "source": [
    "##### All considered, lets draw the formulae for best fit line.\n",
    "\n",
    "const              1621.119567\n",
    "temp               4000.213246\n",
    "yr                 2054.600412\n",
    "windspeed          -322.938521\n",
    "weathersit_snow   -2017.446146\n",
    "season_spring     -1061.496405\n",
    "season_winter       483.325064\n",
    "\n",
    "$ count = 1621.11 + 4000.21  \\times  temp + 2054.60  \\times  yr - 322.93  \\times windspeed - 2017.44 \\times weathersit_snow - 1061.49 \\times season_spring + 483.32 \\times season_winter $\n"
   ]
  }
 ],
 "metadata": {
  "kernelspec": {
   "display_name": "Python 3",
   "language": "python",
   "name": "python3"
  },
  "language_info": {
   "codemirror_mode": {
    "name": "ipython",
    "version": 3
   },
   "file_extension": ".py",
   "mimetype": "text/x-python",
   "name": "python",
   "nbconvert_exporter": "python",
   "pygments_lexer": "ipython3",
   "version": "3.8.5"
  }
 },
 "nbformat": 4,
 "nbformat_minor": 5
}
